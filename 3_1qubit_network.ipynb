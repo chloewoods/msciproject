{
 "cells": [
  {
   "cell_type": "markdown",
   "metadata": {},
   "source": [
    "Playing with the idea of using deep neural net - not used in project"
   ]
  },
  {
   "cell_type": "code",
   "execution_count": 1,
   "metadata": {},
   "outputs": [],
   "source": [
    "from numpy import *\n",
    "import cmath\n",
    "from random import randrange\n",
    "import pandas as pd\n",
    "import time\n",
    "from IPython.display import clear_output"
   ]
  },
  {
   "cell_type": "code",
   "execution_count": 2,
   "metadata": {},
   "outputs": [
    {
     "data": {
      "text/plain": [
       "array([[0.70710678],\n",
       "       [0.70710678]])"
      ]
     },
     "execution_count": 2,
     "metadata": {},
     "output_type": "execute_result"
    }
   ],
   "source": [
    "a = 0.5\n",
    "b = 0.5\n",
    "one = array([[int(0)], [int(1)]])\n",
    "zero = array([[int(1)], [int(0)]])\n",
    "psi1 = (1/(sqrt(2)))*(zero + one)\n",
    "psi1"
   ]
  },
  {
   "cell_type": "code",
   "execution_count": 3,
   "metadata": {},
   "outputs": [],
   "source": [
    "X = array([[0 , 1], [1, 0]])\n",
    "Z = array([[1,0],[0,-1]])\n",
    "Iden = array([[1 , 0], [0, 1]])\n",
    "Y = array([[0 , -1j], [1j, 0]])\n",
    "H = (1/(sqrt(2)))*array([[1 , 1], [1, -1]])\n",
    "S = array([[1 , 0], [0, 1j]])"
   ]
  },
  {
   "cell_type": "code",
   "execution_count": 4,
   "metadata": {},
   "outputs": [
    {
     "data": {
      "text/plain": [
       "array([[0.+1.j],\n",
       "       [0.+0.j]])"
      ]
     },
     "execution_count": 4,
     "metadata": {},
     "output_type": "execute_result"
    }
   ],
   "source": [
    "right = Y.dot(Z.dot(X.dot(zero)))\n",
    "right"
   ]
  },
  {
   "cell_type": "code",
   "execution_count": 5,
   "metadata": {},
   "outputs": [],
   "source": [
    "list2 = [Iden, X, Y, Z, H, S]\n",
    "list1 = [zero, one, psi1]"
   ]
  },
  {
   "cell_type": "code",
   "execution_count": 6,
   "metadata": {},
   "outputs": [],
   "source": [
    "def probability(guess, right):\n",
    "    summ = 0\n",
    "    for i in range(0,2):\n",
    "        diff = (guess[i] - right[i])\n",
    "        summ+= abs(diff)\n",
    "    score = 1 - (summ)/2\n",
    "    return(float(score))"
   ]
  },
  {
   "cell_type": "code",
   "execution_count": 16,
   "metadata": {},
   "outputs": [],
   "source": [
    "W1 = random.rand(6,2)\n",
    "W2 = random.rand(6,6)"
   ]
  },
  {
   "cell_type": "code",
   "execution_count": 33,
   "metadata": {},
   "outputs": [
    {
     "data": {
      "text/plain": [
       "array([[ 0.70710678],\n",
       "       [-0.70710678]])"
      ]
     },
     "execution_count": 33,
     "metadata": {},
     "output_type": "execute_result"
    }
   ],
   "source": [
    "H.dot(one)"
   ]
  },
  {
   "cell_type": "code",
   "execution_count": 52,
   "metadata": {},
   "outputs": [],
   "source": [
    "x = zero"
   ]
  },
  {
   "cell_type": "code",
   "execution_count": 75,
   "metadata": {},
   "outputs": [
    {
     "name": "stdout",
     "output_type": "stream",
     "text": [
      "0\n",
      "2\n",
      "1\n",
      "goal reached\n"
     ]
    }
   ],
   "source": [
    "for z in range(0,20):\n",
    "    x = zero\n",
    "    print(z)\n",
    "    flag = 0\n",
    "    pen = 0\n",
    "    reward = 0\n",
    "    for t in range(0,7):\n",
    "        pen =+ 0.2\n",
    "    \n",
    "        h = dot(W1, x) # compute hidden layer neuron activations\n",
    "        sigh = 1.0 / (1.0 + exp(-h))#sigmoid\n",
    "        logp = dot(W2, sigh) # compute log probability of going up\n",
    "        p = 1.0 / (1.0 + exp(-logp))\n",
    "        ind = argmax(p) #Next action\n",
    "        psinew = (list2[ind]).dot(x) # New state\n",
    "        x = psinew.copy()\n",
    "        print(ind)\n",
    "        if probability(x, right) == 1:\n",
    "            print('goal reached')\n",
    "            flag = 1\n",
    "            reward += pen + flag\n",
    "            break\n",
    "        reward += pen\n",
    "    if flag == 0:\n",
    "        print('not reached')\n",
    "        W1 = random.rand(6,2)\n",
    "        W2 = random.rand(6,6)\n",
    "    else:\n",
    "        break\n",
    "\n",
    "    "
   ]
  },
  {
   "cell_type": "code",
   "execution_count": 59,
   "metadata": {},
   "outputs": [
    {
     "data": {
      "text/plain": [
       "array([[0.83060673, 0.83049942, 0.28502113, 0.72098885, 0.19026584,\n",
       "        0.19344432],\n",
       "       [0.45554775, 0.69618351, 0.87650431, 0.70624459, 0.26994246,\n",
       "        0.6209189 ],\n",
       "       [0.67939143, 0.87295226, 0.9607009 , 0.12070636, 0.89819894,\n",
       "        0.03535975],\n",
       "       [0.05138235, 0.38950437, 0.34051004, 0.02667427, 0.84785546,\n",
       "        0.03807095],\n",
       "       [0.87224289, 0.7287939 , 0.14125261, 0.86743017, 0.05760465,\n",
       "        0.55129598],\n",
       "       [0.09860364, 0.29137393, 0.8163821 , 0.45035831, 0.10234742,\n",
       "        0.49648135]])"
      ]
     },
     "execution_count": 59,
     "metadata": {},
     "output_type": "execute_result"
    }
   ],
   "source": [
    "W2"
   ]
  },
  {
   "cell_type": "code",
   "execution_count": 71,
   "metadata": {},
   "outputs": [],
   "source": [
    "x = psi1\n",
    "h = dot(W1, x) # compute hidden layer neuron activations\n",
    "sigh = 1.0 / (1.0 + exp(-h))#sigmoid\n",
    "logp = dot(W2, sigh) # compute log probability of going up\n",
    "p = 1.0 / (1.0 + exp(-logp))"
   ]
  },
  {
   "cell_type": "code",
   "execution_count": 72,
   "metadata": {},
   "outputs": [
    {
     "data": {
      "text/plain": [
       "array([[0.89403608],\n",
       "       [0.92259947],\n",
       "       [0.92717397],\n",
       "       [0.76268858],\n",
       "       [0.89960331],\n",
       "       [0.82183832]])"
      ]
     },
     "execution_count": 72,
     "metadata": {},
     "output_type": "execute_result"
    }
   ],
   "source": [
    "p"
   ]
  },
  {
   "cell_type": "code",
   "execution_count": 70,
   "metadata": {},
   "outputs": [
    {
     "data": {
      "text/plain": [
       "array([[1.14007172],\n",
       "       [0.92260359],\n",
       "       [1.0803706 ],\n",
       "       [0.57882135],\n",
       "       [0.64986582],\n",
       "       [0.26000648]])"
      ]
     },
     "execution_count": 70,
     "metadata": {},
     "output_type": "execute_result"
    }
   ],
   "source": [
    "h"
   ]
  },
  {
   "cell_type": "code",
   "execution_count": null,
   "metadata": {},
   "outputs": [],
   "source": []
  }
 ],
 "metadata": {
  "kernelspec": {
   "display_name": "Python 3",
   "language": "python",
   "name": "python3"
  },
  "language_info": {
   "codemirror_mode": {
    "name": "ipython",
    "version": 3
   },
   "file_extension": ".py",
   "mimetype": "text/x-python",
   "name": "python",
   "nbconvert_exporter": "python",
   "pygments_lexer": "ipython3",
   "version": "3.7.4"
  }
 },
 "nbformat": 4,
 "nbformat_minor": 2
}
