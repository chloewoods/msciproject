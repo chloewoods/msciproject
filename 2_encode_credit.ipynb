{
 "cells": [
  {
   "cell_type": "code",
   "execution_count": 15,
   "metadata": {},
   "outputs": [],
   "source": [
    "from numpy import *\n",
    "import cmath\n",
    "from random import randrange\n",
    "import pandas as pd\n",
    "import time\n",
    "from IPython.display import clear_output"
   ]
  },
  {
   "cell_type": "code",
   "execution_count": 16,
   "metadata": {},
   "outputs": [
    {
     "data": {
      "text/plain": [
       "array([[1],\n",
       "       [0],\n",
       "       [0],\n",
       "       [0],\n",
       "       [1],\n",
       "       [0],\n",
       "       [0],\n",
       "       [0]])"
      ]
     },
     "execution_count": 16,
     "metadata": {},
     "output_type": "execute_result"
    }
   ],
   "source": [
    "a = 1\n",
    "b = 1\n",
    "one = array([[int(0)], [int(1)]])\n",
    "zero = array([[int(1)], [int(0)]])\n",
    "psi = a*zero + b*one\n",
    "\n",
    "psi3 = kron((kron(psi,zero)), zero)\n",
    "psi3"
   ]
  },
  {
   "cell_type": "code",
   "execution_count": 17,
   "metadata": {},
   "outputs": [],
   "source": [
    "right = (CNOT13.dot(CNOT12)).dot(psi3)"
   ]
  },
  {
   "cell_type": "code",
   "execution_count": 18,
   "metadata": {},
   "outputs": [],
   "source": [
    "CNOT13 = array([[1,0,0,0,0,0,0,0],[0,1,0,0,0,0,0,0],[0,0,1,0,0,0,0,0],[0,0,0,1,0,0,0,0],[0,0,0,0,0,1,0,0],[0,0,0,0,1,0,0,0],[0,0,0,0,0,0,0,1],[0,0,0,0,0,0,1,0]])\n",
    "CNOT12 = array([[1,0,0,0,0,0,0,0],[0,1,0,0,0,0,0,0],[0,0,1,0,0,0,0,0],[0,0,0,1,0,0,0,0],[0,0,0,0,0,0,1,0],[0,0,0,0,0,0,0,1],[0,0,0,0,1,0,0,0],[0,0,0,0,0,1,0,0]])\n",
    "X = array([[0 , 1], [1, 0]])\n",
    "Z = array([[1,0],[0,-1]])\n",
    "Y = array([[0 , -1j], [1j, 0]])\n",
    "Iden = array([[1 , 0], [0, 1]])\n",
    "Iden3 = array([[1,0,0,0,0,0,0,0],[0,1,0,0,0,0,0,0],[0,0,1,0,0,0,0,0],[0,0,0,1,0,0,0,0],[0,0,0,0,1,0,0,0],[0,0,0,0,0,1,0,0],[0,0,0,0,0,0,1,0],[0,0,0,0,0,0,0,1]])\n",
    "X1 = kron(kron(X, Iden), Iden)\n",
    "X2 = kron(kron(Iden, X), Iden)\n",
    "X3 = kron(kron(Iden, Iden), X)\n",
    "Z1 = kron(kron(Z, Iden), Iden)\n",
    "Z2 = kron(kron(Iden, Z), Iden)\n",
    "Z3 = kron(kron(Iden, Iden), Z)\n",
    "Y1 = kron(kron(Y, Iden), Iden)\n",
    "Y2 = kron(kron(Iden, Y), Iden)\n",
    "Y3 = kron(kron(Iden, Iden), Y)"
   ]
  },
  {
   "cell_type": "code",
   "execution_count": 19,
   "metadata": {},
   "outputs": [],
   "source": [
    "list2 = [Iden3,CNOT13,CNOT12,X1,X2,X3,Z1,Z2,Z3,Y1,Y2,Y3]"
   ]
  },
  {
   "cell_type": "code",
   "execution_count": 20,
   "metadata": {},
   "outputs": [
    {
     "data": {
      "text/plain": [
       "0.75"
      ]
     },
     "execution_count": 20,
     "metadata": {},
     "output_type": "execute_result"
    }
   ],
   "source": [
    "probability((CNOT13.dot(psi3)), right)"
   ]
  },
  {
   "cell_type": "code",
   "execution_count": 21,
   "metadata": {},
   "outputs": [],
   "source": [
    "def probability(guess, right):\n",
    "    summ = 0\n",
    "    for i in range(0,8):\n",
    "        diff = (guess[i] - right[i])\n",
    "        summ+= abs(diff)\n",
    "    score = 1 - (summ)/8\n",
    "    return(float(score))"
   ]
  },
  {
   "cell_type": "markdown",
   "metadata": {},
   "source": [
    "Dataframe try\n",
    "\n",
    "- First set up the dataframe with the correct columns and some possible states"
   ]
  },
  {
   "cell_type": "code",
   "execution_count": 22,
   "metadata": {},
   "outputs": [],
   "source": [
    "Q_table = pd.DataFrame()"
   ]
  },
  {
   "cell_type": "code",
   "execution_count": 23,
   "metadata": {},
   "outputs": [],
   "source": [
    "\n",
    "for m in range(0,len(list2)):\n",
    "    gate = m\n",
    "    new = (list2[m].dot(psi3))\n",
    "    Q = pd.DataFrame({'string' : str(psi3), 'gate':gate, 'new': str(new), 'Q':0}, index=[0])\n",
    "    Q_table = Q_table.append(Q)"
   ]
  },
  {
   "cell_type": "markdown",
   "metadata": {},
   "source": [
    "It's easier to call upon cells in string format rather than array format"
   ]
  },
  {
   "cell_type": "code",
   "execution_count": 24,
   "metadata": {},
   "outputs": [],
   "source": [
    "\n",
    "Q_tablestr = Q_table.drop_duplicates()\n",
    "Q_tablestr = Q_tablestr.reset_index(drop=True)"
   ]
  },
  {
   "cell_type": "code",
   "execution_count": 25,
   "metadata": {},
   "outputs": [
    {
     "data": {
      "text/html": [
       "<div>\n",
       "<style scoped>\n",
       "    .dataframe tbody tr th:only-of-type {\n",
       "        vertical-align: middle;\n",
       "    }\n",
       "\n",
       "    .dataframe tbody tr th {\n",
       "        vertical-align: top;\n",
       "    }\n",
       "\n",
       "    .dataframe thead th {\n",
       "        text-align: right;\n",
       "    }\n",
       "</style>\n",
       "<table border=\"1\" class=\"dataframe\">\n",
       "  <thead>\n",
       "    <tr style=\"text-align: right;\">\n",
       "      <th></th>\n",
       "      <th>string</th>\n",
       "      <th>gate</th>\n",
       "      <th>new</th>\n",
       "      <th>Q</th>\n",
       "    </tr>\n",
       "  </thead>\n",
       "  <tbody>\n",
       "    <tr>\n",
       "      <td>0</td>\n",
       "      <td>[[1]\\n [0]\\n [0]\\n [0]\\n [1]\\n [0]\\n [0]\\n [0]]</td>\n",
       "      <td>0</td>\n",
       "      <td>[[1]\\n [0]\\n [0]\\n [0]\\n [1]\\n [0]\\n [0]\\n [0]]</td>\n",
       "      <td>0</td>\n",
       "    </tr>\n",
       "    <tr>\n",
       "      <td>1</td>\n",
       "      <td>[[1]\\n [0]\\n [0]\\n [0]\\n [1]\\n [0]\\n [0]\\n [0]]</td>\n",
       "      <td>1</td>\n",
       "      <td>[[1]\\n [0]\\n [0]\\n [0]\\n [0]\\n [1]\\n [0]\\n [0]]</td>\n",
       "      <td>0</td>\n",
       "    </tr>\n",
       "    <tr>\n",
       "      <td>2</td>\n",
       "      <td>[[1]\\n [0]\\n [0]\\n [0]\\n [1]\\n [0]\\n [0]\\n [0]]</td>\n",
       "      <td>2</td>\n",
       "      <td>[[1]\\n [0]\\n [0]\\n [0]\\n [0]\\n [0]\\n [1]\\n [0]]</td>\n",
       "      <td>0</td>\n",
       "    </tr>\n",
       "    <tr>\n",
       "      <td>3</td>\n",
       "      <td>[[1]\\n [0]\\n [0]\\n [0]\\n [1]\\n [0]\\n [0]\\n [0]]</td>\n",
       "      <td>3</td>\n",
       "      <td>[[1]\\n [0]\\n [0]\\n [0]\\n [1]\\n [0]\\n [0]\\n [0]]</td>\n",
       "      <td>0</td>\n",
       "    </tr>\n",
       "    <tr>\n",
       "      <td>4</td>\n",
       "      <td>[[1]\\n [0]\\n [0]\\n [0]\\n [1]\\n [0]\\n [0]\\n [0]]</td>\n",
       "      <td>4</td>\n",
       "      <td>[[0]\\n [0]\\n [1]\\n [0]\\n [0]\\n [0]\\n [1]\\n [0]]</td>\n",
       "      <td>0</td>\n",
       "    </tr>\n",
       "    <tr>\n",
       "      <td>5</td>\n",
       "      <td>[[1]\\n [0]\\n [0]\\n [0]\\n [1]\\n [0]\\n [0]\\n [0]]</td>\n",
       "      <td>5</td>\n",
       "      <td>[[0]\\n [1]\\n [0]\\n [0]\\n [0]\\n [1]\\n [0]\\n [0]]</td>\n",
       "      <td>0</td>\n",
       "    </tr>\n",
       "    <tr>\n",
       "      <td>6</td>\n",
       "      <td>[[1]\\n [0]\\n [0]\\n [0]\\n [1]\\n [0]\\n [0]\\n [0]]</td>\n",
       "      <td>6</td>\n",
       "      <td>[[ 1]\\n [ 0]\\n [ 0]\\n [ 0]\\n [-1]\\n [ 0]\\n [ 0...</td>\n",
       "      <td>0</td>\n",
       "    </tr>\n",
       "    <tr>\n",
       "      <td>7</td>\n",
       "      <td>[[1]\\n [0]\\n [0]\\n [0]\\n [1]\\n [0]\\n [0]\\n [0]]</td>\n",
       "      <td>7</td>\n",
       "      <td>[[1]\\n [0]\\n [0]\\n [0]\\n [1]\\n [0]\\n [0]\\n [0]]</td>\n",
       "      <td>0</td>\n",
       "    </tr>\n",
       "    <tr>\n",
       "      <td>8</td>\n",
       "      <td>[[1]\\n [0]\\n [0]\\n [0]\\n [1]\\n [0]\\n [0]\\n [0]]</td>\n",
       "      <td>8</td>\n",
       "      <td>[[1]\\n [0]\\n [0]\\n [0]\\n [1]\\n [0]\\n [0]\\n [0]]</td>\n",
       "      <td>0</td>\n",
       "    </tr>\n",
       "    <tr>\n",
       "      <td>9</td>\n",
       "      <td>[[1]\\n [0]\\n [0]\\n [0]\\n [1]\\n [0]\\n [0]\\n [0]]</td>\n",
       "      <td>9</td>\n",
       "      <td>[[0.-1.j]\\n [0.+0.j]\\n [0.+0.j]\\n [0.+0.j]\\n [...</td>\n",
       "      <td>0</td>\n",
       "    </tr>\n",
       "    <tr>\n",
       "      <td>10</td>\n",
       "      <td>[[1]\\n [0]\\n [0]\\n [0]\\n [1]\\n [0]\\n [0]\\n [0]]</td>\n",
       "      <td>10</td>\n",
       "      <td>[[0.+0.j]\\n [0.+0.j]\\n [0.+1.j]\\n [0.+0.j]\\n [...</td>\n",
       "      <td>0</td>\n",
       "    </tr>\n",
       "    <tr>\n",
       "      <td>11</td>\n",
       "      <td>[[1]\\n [0]\\n [0]\\n [0]\\n [1]\\n [0]\\n [0]\\n [0]]</td>\n",
       "      <td>11</td>\n",
       "      <td>[[0.+0.j]\\n [0.+1.j]\\n [0.+0.j]\\n [0.+0.j]\\n [...</td>\n",
       "      <td>0</td>\n",
       "    </tr>\n",
       "  </tbody>\n",
       "</table>\n",
       "</div>"
      ],
      "text/plain": [
       "                                             string  gate  \\\n",
       "0   [[1]\\n [0]\\n [0]\\n [0]\\n [1]\\n [0]\\n [0]\\n [0]]     0   \n",
       "1   [[1]\\n [0]\\n [0]\\n [0]\\n [1]\\n [0]\\n [0]\\n [0]]     1   \n",
       "2   [[1]\\n [0]\\n [0]\\n [0]\\n [1]\\n [0]\\n [0]\\n [0]]     2   \n",
       "3   [[1]\\n [0]\\n [0]\\n [0]\\n [1]\\n [0]\\n [0]\\n [0]]     3   \n",
       "4   [[1]\\n [0]\\n [0]\\n [0]\\n [1]\\n [0]\\n [0]\\n [0]]     4   \n",
       "5   [[1]\\n [0]\\n [0]\\n [0]\\n [1]\\n [0]\\n [0]\\n [0]]     5   \n",
       "6   [[1]\\n [0]\\n [0]\\n [0]\\n [1]\\n [0]\\n [0]\\n [0]]     6   \n",
       "7   [[1]\\n [0]\\n [0]\\n [0]\\n [1]\\n [0]\\n [0]\\n [0]]     7   \n",
       "8   [[1]\\n [0]\\n [0]\\n [0]\\n [1]\\n [0]\\n [0]\\n [0]]     8   \n",
       "9   [[1]\\n [0]\\n [0]\\n [0]\\n [1]\\n [0]\\n [0]\\n [0]]     9   \n",
       "10  [[1]\\n [0]\\n [0]\\n [0]\\n [1]\\n [0]\\n [0]\\n [0]]    10   \n",
       "11  [[1]\\n [0]\\n [0]\\n [0]\\n [1]\\n [0]\\n [0]\\n [0]]    11   \n",
       "\n",
       "                                                  new  Q  \n",
       "0     [[1]\\n [0]\\n [0]\\n [0]\\n [1]\\n [0]\\n [0]\\n [0]]  0  \n",
       "1     [[1]\\n [0]\\n [0]\\n [0]\\n [0]\\n [1]\\n [0]\\n [0]]  0  \n",
       "2     [[1]\\n [0]\\n [0]\\n [0]\\n [0]\\n [0]\\n [1]\\n [0]]  0  \n",
       "3     [[1]\\n [0]\\n [0]\\n [0]\\n [1]\\n [0]\\n [0]\\n [0]]  0  \n",
       "4     [[0]\\n [0]\\n [1]\\n [0]\\n [0]\\n [0]\\n [1]\\n [0]]  0  \n",
       "5     [[0]\\n [1]\\n [0]\\n [0]\\n [0]\\n [1]\\n [0]\\n [0]]  0  \n",
       "6   [[ 1]\\n [ 0]\\n [ 0]\\n [ 0]\\n [-1]\\n [ 0]\\n [ 0...  0  \n",
       "7     [[1]\\n [0]\\n [0]\\n [0]\\n [1]\\n [0]\\n [0]\\n [0]]  0  \n",
       "8     [[1]\\n [0]\\n [0]\\n [0]\\n [1]\\n [0]\\n [0]\\n [0]]  0  \n",
       "9   [[0.-1.j]\\n [0.+0.j]\\n [0.+0.j]\\n [0.+0.j]\\n [...  0  \n",
       "10  [[0.+0.j]\\n [0.+0.j]\\n [0.+1.j]\\n [0.+0.j]\\n [...  0  \n",
       "11  [[0.+0.j]\\n [0.+1.j]\\n [0.+0.j]\\n [0.+0.j]\\n [...  0  "
      ]
     },
     "execution_count": 25,
     "metadata": {},
     "output_type": "execute_result"
    }
   ],
   "source": [
    "Q_tablestr"
   ]
  },
  {
   "cell_type": "markdown",
   "metadata": {},
   "source": [
    "Run a few times to get different Q values and compare the Q values for each state action pair\n",
    "\n",
    "Set variables - these may need to be played about with more to find optimal values"
   ]
  },
  {
   "cell_type": "code",
   "execution_count": 31,
   "metadata": {},
   "outputs": [],
   "source": [
    "alpha = 0.5 #how much we update Q for every new action\n",
    "gamma = 0.9 #discount factor \n",
    "\n",
    "num_iter = 1\n",
    "num_repeats = 4000\n",
    "penalty = 0.2\n",
    "steps = 5"
   ]
  },
  {
   "cell_type": "code",
   "execution_count": 39,
   "metadata": {},
   "outputs": [
    {
     "name": "stdout",
     "output_type": "stream",
     "text": [
      "0 has begun\n"
     ]
    },
    {
     "data": {
      "text/html": [
       "<div>\n",
       "<style scoped>\n",
       "    .dataframe tbody tr th:only-of-type {\n",
       "        vertical-align: middle;\n",
       "    }\n",
       "\n",
       "    .dataframe tbody tr th {\n",
       "        vertical-align: top;\n",
       "    }\n",
       "\n",
       "    .dataframe thead th {\n",
       "        text-align: right;\n",
       "    }\n",
       "</style>\n",
       "<table border=\"1\" class=\"dataframe\">\n",
       "  <thead>\n",
       "    <tr style=\"text-align: right;\">\n",
       "      <th></th>\n",
       "      <th>string</th>\n",
       "      <th>gate</th>\n",
       "      <th>new</th>\n",
       "      <th>Q</th>\n",
       "    </tr>\n",
       "  </thead>\n",
       "  <tbody>\n",
       "    <tr>\n",
       "      <td>1322</td>\n",
       "      <td>[[1]\\n [0]\\n [0]\\n [0]\\n [1]\\n [0]\\n [0]\\n [0]]</td>\n",
       "      <td>2</td>\n",
       "      <td>[[1]\\n [0]\\n [0]\\n [0]\\n [0]\\n [0]\\n [1]\\n [0]]</td>\n",
       "      <td>-0.223452</td>\n",
       "    </tr>\n",
       "    <tr>\n",
       "      <td>1297</td>\n",
       "      <td>[[1]\\n [0]\\n [0]\\n [0]\\n [0]\\n [0]\\n [1]\\n [0]]</td>\n",
       "      <td>1</td>\n",
       "      <td>[[1]\\n [0]\\n [0]\\n [0]\\n [0]\\n [0]\\n [0]\\n [1]]</td>\n",
       "      <td>0.667187</td>\n",
       "    </tr>\n",
       "    <tr>\n",
       "      <td>1284</td>\n",
       "      <td>[[1]\\n [0]\\n [0]\\n [0]\\n [0]\\n [0]\\n [0]\\n [1]]</td>\n",
       "      <td>0</td>\n",
       "      <td>[[1]\\n [0]\\n [0]\\n [0]\\n [0]\\n [0]\\n [0]\\n [1]]</td>\n",
       "      <td>1.460209</td>\n",
       "    </tr>\n",
       "    <tr>\n",
       "      <td>1284</td>\n",
       "      <td>[[1]\\n [0]\\n [0]\\n [0]\\n [0]\\n [0]\\n [0]\\n [1]]</td>\n",
       "      <td>0</td>\n",
       "      <td>[[1]\\n [0]\\n [0]\\n [0]\\n [0]\\n [0]\\n [0]\\n [1]]</td>\n",
       "      <td>1.460209</td>\n",
       "    </tr>\n",
       "  </tbody>\n",
       "</table>\n",
       "</div>"
      ],
      "text/plain": [
       "                                               string  gate  \\\n",
       "1322  [[1]\\n [0]\\n [0]\\n [0]\\n [1]\\n [0]\\n [0]\\n [0]]     2   \n",
       "1297  [[1]\\n [0]\\n [0]\\n [0]\\n [0]\\n [0]\\n [1]\\n [0]]     1   \n",
       "1284  [[1]\\n [0]\\n [0]\\n [0]\\n [0]\\n [0]\\n [0]\\n [1]]     0   \n",
       "1284  [[1]\\n [0]\\n [0]\\n [0]\\n [0]\\n [0]\\n [0]\\n [1]]     0   \n",
       "\n",
       "                                                  new         Q  \n",
       "1322  [[1]\\n [0]\\n [0]\\n [0]\\n [0]\\n [0]\\n [1]\\n [0]] -0.223452  \n",
       "1297  [[1]\\n [0]\\n [0]\\n [0]\\n [0]\\n [0]\\n [0]\\n [1]]  0.667187  \n",
       "1284  [[1]\\n [0]\\n [0]\\n [0]\\n [0]\\n [0]\\n [0]\\n [1]]  1.460209  \n",
       "1284  [[1]\\n [0]\\n [0]\\n [0]\\n [0]\\n [0]\\n [0]\\n [1]]  1.460209  "
      ]
     },
     "execution_count": 39,
     "metadata": {},
     "output_type": "execute_result"
    }
   ],
   "source": [
    "final = pd.DataFrame()\n",
    "tots1 = pd.DataFrame()\n",
    "for iter in range(0,num_iter):\n",
    "    table = together.copy()\n",
    "    print(str(iter) + ' has begun')\n",
    "    for repeats in range(0,num_repeats):\n",
    "        psiold = psi3\n",
    "        reward = 0\n",
    "        for t in range(0,steps): #set the max number of steps taken\n",
    "            reward += penalty #add more penalty with each step\n",
    "        \n",
    "            sec = table[table['string']==str(psiold)] #choose the part of the dataframe that contains the current state\n",
    "        \n",
    "            gather = pd.DataFrame()\n",
    "            for n in range(0,(len(sec))): #iterate through the rows that contain the current state\n",
    "                for z in range(0,len(list2)): # find the action associated with the state in each row\n",
    "                    if(sec.iloc[n]['gate']== z):\n",
    "                        apply = array(list2[z])\n",
    "                        zed = z\n",
    "                    \n",
    "                psinew = apply.dot(psiold) #create new state by applying action\n",
    "                \n",
    "                \n",
    "                news = table[table['string']==str(psinew)] #choose part of dataframe that contains the new state\n",
    "            \n",
    "                if len(news) == 0: #if the new state is not in the dataframe, insert it with all the possible actions\n",
    "                    for s in range(0,len(list2)):\n",
    "                        lad = list2[s].dot(psinew)\n",
    "                        news = pd.DataFrame({'string' : str(psinew), 'gate':s, 'new':str(lad), 'Q':0}, index=[0])\n",
    "                        table = table.append(news)\n",
    "                    \n",
    "                maxQ = max(news['Q']) #find the max Q value the new state\n",
    "                gather = gather.append(news).drop_duplicates() #create a dataframe of all possible new states\n",
    "                plus = 0\n",
    "                if (probability(psiold, right)) == 1: #insert a reward if the new state is the one we want\n",
    "                    plus = 1\n",
    "                    \n",
    "                table.loc[(table.string == str(psiold)) & (table.gate == zed), 'Q'] += alpha*((plus - reward) + gamma*(maxQ) - sec.iloc[n]['Q'])\n",
    "                #update the Q value of the old state based on the rewards given by the new state\n",
    "            if plus == 1: #If we have reached the state we want we can stop\n",
    "                #print('goal reached')\n",
    "                break\n",
    "            else:\n",
    "                top = gather.loc[(gather.Q == max(gather['Q']))] #collect the max Q value from all possible new states\n",
    "                toparray =[] #sort these into an array with their associated action\n",
    "                actarray =[]\n",
    "                for o in range(0,len(top)):\n",
    "                    for p in range(0,len(list2)):\n",
    "                        if (str((array(list2[p])).dot(psiold)) == (top.iloc[o]['string'])):\n",
    "                            toparray.append((array(list2[p])).dot(psiold))\n",
    "                            actarray.append(p)\n",
    "        \n",
    "                garray =[] #create an array of all possible new states with associated actions\n",
    "                actg = []\n",
    "                for a in range(0,len(top)):\n",
    "                    for b in range(0,len(list2)):\n",
    "                        if (str((array(list2[b])).dot(psiold)) == (gather.iloc[a]['string'])):\n",
    "                            garray.append((array(list2[b])).dot(psiold))\n",
    "                            actg.append(b)\n",
    "        \n",
    "                q = randrange(100)\n",
    "                if q > 90: #Create a percentage chance that the next state will be one with a max Q value (expoitation) or a state obtained from a random action (exploration)\n",
    "                    r = randrange(len(toparray))\n",
    "                    psiold = toparray[r]\n",
    "                    action = actarray[r]\n",
    "                else:\n",
    "                    r = randrange(len(garray))\n",
    "                    psiold = garray[r]\n",
    "                    action = actg[r]\n",
    "        \n",
    "            #print(str(t) + 'th state is ' + str(psiold) + ' after action ' + str(action))\n",
    "        #print(repeats \n",
    "    tots1 = tots1.append(table)\n",
    "    oppa = table.loc[(table.string == str(psi3))]\n",
    "    lol = oppa.sort_values(\"Q\", ascending=False)\n",
    "    top = lol.head(1)\n",
    "    for n in [0, 1, 2]:\n",
    "        \n",
    "        oppa1 = table.loc[(table.string == top['new'].values[n])]\n",
    "        lol = oppa1.sort_values(\"Q\", ascending=False)\n",
    "        top1 = lol.head(1)\n",
    "        \n",
    "        top = top.append(top1)\n",
    "        #print(top1)\n",
    "         \n",
    "    final = final.append(top)\n",
    "final.head(30)"
   ]
  },
  {
   "cell_type": "code",
   "execution_count": 40,
   "metadata": {},
   "outputs": [],
   "source": [
    "together = tots1.groupby(['string','gate','new'])['Q'].mean().reset_index()"
   ]
  },
  {
   "cell_type": "code",
   "execution_count": 41,
   "metadata": {},
   "outputs": [
    {
     "data": {
      "text/html": [
       "<div>\n",
       "<style scoped>\n",
       "    .dataframe tbody tr th:only-of-type {\n",
       "        vertical-align: middle;\n",
       "    }\n",
       "\n",
       "    .dataframe tbody tr th {\n",
       "        vertical-align: top;\n",
       "    }\n",
       "\n",
       "    .dataframe thead th {\n",
       "        text-align: right;\n",
       "    }\n",
       "</style>\n",
       "<table border=\"1\" class=\"dataframe\">\n",
       "  <thead>\n",
       "    <tr style=\"text-align: right;\">\n",
       "      <th></th>\n",
       "      <th>string</th>\n",
       "      <th>gate</th>\n",
       "      <th>new</th>\n",
       "      <th>Q</th>\n",
       "    </tr>\n",
       "  </thead>\n",
       "  <tbody>\n",
       "    <tr>\n",
       "      <td>1320</td>\n",
       "      <td>[[1]\\n [0]\\n [0]\\n [0]\\n [1]\\n [0]\\n [0]\\n [0]]</td>\n",
       "      <td>0</td>\n",
       "      <td>[[1]\\n [0]\\n [0]\\n [0]\\n [1]\\n [0]\\n [0]\\n [0]]</td>\n",
       "      <td>-0.782051</td>\n",
       "    </tr>\n",
       "    <tr>\n",
       "      <td>1321</td>\n",
       "      <td>[[1]\\n [0]\\n [0]\\n [0]\\n [1]\\n [0]\\n [0]\\n [0]]</td>\n",
       "      <td>1</td>\n",
       "      <td>[[1]\\n [0]\\n [0]\\n [0]\\n [0]\\n [1]\\n [0]\\n [0]]</td>\n",
       "      <td>-1.523737</td>\n",
       "    </tr>\n",
       "    <tr>\n",
       "      <td>1322</td>\n",
       "      <td>[[1]\\n [0]\\n [0]\\n [0]\\n [1]\\n [0]\\n [0]\\n [0]]</td>\n",
       "      <td>2</td>\n",
       "      <td>[[1]\\n [0]\\n [0]\\n [0]\\n [0]\\n [0]\\n [1]\\n [0]]</td>\n",
       "      <td>-0.223452</td>\n",
       "    </tr>\n",
       "    <tr>\n",
       "      <td>1323</td>\n",
       "      <td>[[1]\\n [0]\\n [0]\\n [0]\\n [1]\\n [0]\\n [0]\\n [0]]</td>\n",
       "      <td>3</td>\n",
       "      <td>[[1]\\n [0]\\n [0]\\n [0]\\n [1]\\n [0]\\n [0]\\n [0]]</td>\n",
       "      <td>-0.899823</td>\n",
       "    </tr>\n",
       "    <tr>\n",
       "      <td>1324</td>\n",
       "      <td>[[1]\\n [0]\\n [0]\\n [0]\\n [1]\\n [0]\\n [0]\\n [0]]</td>\n",
       "      <td>4</td>\n",
       "      <td>[[0]\\n [0]\\n [1]\\n [0]\\n [0]\\n [0]\\n [1]\\n [0]]</td>\n",
       "      <td>-1.611457</td>\n",
       "    </tr>\n",
       "    <tr>\n",
       "      <td>1325</td>\n",
       "      <td>[[1]\\n [0]\\n [0]\\n [0]\\n [1]\\n [0]\\n [0]\\n [0]]</td>\n",
       "      <td>5</td>\n",
       "      <td>[[0]\\n [1]\\n [0]\\n [0]\\n [0]\\n [1]\\n [0]\\n [0]]</td>\n",
       "      <td>-1.570237</td>\n",
       "    </tr>\n",
       "    <tr>\n",
       "      <td>1326</td>\n",
       "      <td>[[1]\\n [0]\\n [0]\\n [0]\\n [1]\\n [0]\\n [0]\\n [0]]</td>\n",
       "      <td>6</td>\n",
       "      <td>[[ 1]\\n [ 0]\\n [ 0]\\n [ 0]\\n [-1]\\n [ 0]\\n [ 0...</td>\n",
       "      <td>-1.567424</td>\n",
       "    </tr>\n",
       "    <tr>\n",
       "      <td>1327</td>\n",
       "      <td>[[1]\\n [0]\\n [0]\\n [0]\\n [1]\\n [0]\\n [0]\\n [0]]</td>\n",
       "      <td>7</td>\n",
       "      <td>[[1]\\n [0]\\n [0]\\n [0]\\n [1]\\n [0]\\n [0]\\n [0]]</td>\n",
       "      <td>-0.899823</td>\n",
       "    </tr>\n",
       "    <tr>\n",
       "      <td>1328</td>\n",
       "      <td>[[1]\\n [0]\\n [0]\\n [0]\\n [1]\\n [0]\\n [0]\\n [0]]</td>\n",
       "      <td>8</td>\n",
       "      <td>[[1]\\n [0]\\n [0]\\n [0]\\n [1]\\n [0]\\n [0]\\n [0]]</td>\n",
       "      <td>-0.899823</td>\n",
       "    </tr>\n",
       "    <tr>\n",
       "      <td>1329</td>\n",
       "      <td>[[1]\\n [0]\\n [0]\\n [0]\\n [1]\\n [0]\\n [0]\\n [0]]</td>\n",
       "      <td>9</td>\n",
       "      <td>[[0.-1.j]\\n [0.+0.j]\\n [0.+0.j]\\n [0.+0.j]\\n [...</td>\n",
       "      <td>-1.620862</td>\n",
       "    </tr>\n",
       "    <tr>\n",
       "      <td>1330</td>\n",
       "      <td>[[1]\\n [0]\\n [0]\\n [0]\\n [1]\\n [0]\\n [0]\\n [0]]</td>\n",
       "      <td>10</td>\n",
       "      <td>[[0.+0.j]\\n [0.+0.j]\\n [0.+1.j]\\n [0.+0.j]\\n [...</td>\n",
       "      <td>-1.536487</td>\n",
       "    </tr>\n",
       "    <tr>\n",
       "      <td>1331</td>\n",
       "      <td>[[1]\\n [0]\\n [0]\\n [0]\\n [1]\\n [0]\\n [0]\\n [0]]</td>\n",
       "      <td>11</td>\n",
       "      <td>[[0.+0.j]\\n [0.+1.j]\\n [0.+0.j]\\n [0.+0.j]\\n [...</td>\n",
       "      <td>-1.525237</td>\n",
       "    </tr>\n",
       "  </tbody>\n",
       "</table>\n",
       "</div>"
      ],
      "text/plain": [
       "                                               string  gate  \\\n",
       "1320  [[1]\\n [0]\\n [0]\\n [0]\\n [1]\\n [0]\\n [0]\\n [0]]     0   \n",
       "1321  [[1]\\n [0]\\n [0]\\n [0]\\n [1]\\n [0]\\n [0]\\n [0]]     1   \n",
       "1322  [[1]\\n [0]\\n [0]\\n [0]\\n [1]\\n [0]\\n [0]\\n [0]]     2   \n",
       "1323  [[1]\\n [0]\\n [0]\\n [0]\\n [1]\\n [0]\\n [0]\\n [0]]     3   \n",
       "1324  [[1]\\n [0]\\n [0]\\n [0]\\n [1]\\n [0]\\n [0]\\n [0]]     4   \n",
       "1325  [[1]\\n [0]\\n [0]\\n [0]\\n [1]\\n [0]\\n [0]\\n [0]]     5   \n",
       "1326  [[1]\\n [0]\\n [0]\\n [0]\\n [1]\\n [0]\\n [0]\\n [0]]     6   \n",
       "1327  [[1]\\n [0]\\n [0]\\n [0]\\n [1]\\n [0]\\n [0]\\n [0]]     7   \n",
       "1328  [[1]\\n [0]\\n [0]\\n [0]\\n [1]\\n [0]\\n [0]\\n [0]]     8   \n",
       "1329  [[1]\\n [0]\\n [0]\\n [0]\\n [1]\\n [0]\\n [0]\\n [0]]     9   \n",
       "1330  [[1]\\n [0]\\n [0]\\n [0]\\n [1]\\n [0]\\n [0]\\n [0]]    10   \n",
       "1331  [[1]\\n [0]\\n [0]\\n [0]\\n [1]\\n [0]\\n [0]\\n [0]]    11   \n",
       "\n",
       "                                                    new         Q  \n",
       "1320    [[1]\\n [0]\\n [0]\\n [0]\\n [1]\\n [0]\\n [0]\\n [0]] -0.782051  \n",
       "1321    [[1]\\n [0]\\n [0]\\n [0]\\n [0]\\n [1]\\n [0]\\n [0]] -1.523737  \n",
       "1322    [[1]\\n [0]\\n [0]\\n [0]\\n [0]\\n [0]\\n [1]\\n [0]] -0.223452  \n",
       "1323    [[1]\\n [0]\\n [0]\\n [0]\\n [1]\\n [0]\\n [0]\\n [0]] -0.899823  \n",
       "1324    [[0]\\n [0]\\n [1]\\n [0]\\n [0]\\n [0]\\n [1]\\n [0]] -1.611457  \n",
       "1325    [[0]\\n [1]\\n [0]\\n [0]\\n [0]\\n [1]\\n [0]\\n [0]] -1.570237  \n",
       "1326  [[ 1]\\n [ 0]\\n [ 0]\\n [ 0]\\n [-1]\\n [ 0]\\n [ 0... -1.567424  \n",
       "1327    [[1]\\n [0]\\n [0]\\n [0]\\n [1]\\n [0]\\n [0]\\n [0]] -0.899823  \n",
       "1328    [[1]\\n [0]\\n [0]\\n [0]\\n [1]\\n [0]\\n [0]\\n [0]] -0.899823  \n",
       "1329  [[0.-1.j]\\n [0.+0.j]\\n [0.+0.j]\\n [0.+0.j]\\n [... -1.620862  \n",
       "1330  [[0.+0.j]\\n [0.+0.j]\\n [0.+1.j]\\n [0.+0.j]\\n [... -1.536487  \n",
       "1331  [[0.+0.j]\\n [0.+1.j]\\n [0.+0.j]\\n [0.+0.j]\\n [... -1.525237  "
      ]
     },
     "execution_count": 41,
     "metadata": {},
     "output_type": "execute_result"
    }
   ],
   "source": [
    "together[together['string'] == str(list2[0].dot(list2[0].dot(psi3)))]"
   ]
  },
  {
   "cell_type": "code",
   "execution_count": 45,
   "metadata": {},
   "outputs": [
    {
     "data": {
      "text/plain": [
       "5820"
      ]
     },
     "execution_count": 45,
     "metadata": {},
     "output_type": "execute_result"
    }
   ],
   "source": [
    "tots1[tots1['string']==str(psi3)]\n",
    "len(tots1)"
   ]
  },
  {
   "cell_type": "code",
   "execution_count": 23,
   "metadata": {},
   "outputs": [
    {
     "data": {
      "text/plain": [
       "'[[1]\\n [0]\\n [0]\\n [0]\\n [1]\\n [0]\\n [0]\\n [0]]'"
      ]
     },
     "execution_count": 23,
     "metadata": {},
     "output_type": "execute_result"
    }
   ],
   "source": [
    "str(psi3)"
   ]
  },
  {
   "cell_type": "code",
   "execution_count": null,
   "metadata": {},
   "outputs": [],
   "source": []
  }
 ],
 "metadata": {
  "kernelspec": {
   "display_name": "Python 3",
   "language": "python",
   "name": "python3"
  },
  "language_info": {
   "codemirror_mode": {
    "name": "ipython",
    "version": 3
   },
   "file_extension": ".py",
   "mimetype": "text/x-python",
   "name": "python",
   "nbconvert_exporter": "python",
   "pygments_lexer": "ipython3",
   "version": "3.7.4"
  }
 },
 "nbformat": 4,
 "nbformat_minor": 2
}
