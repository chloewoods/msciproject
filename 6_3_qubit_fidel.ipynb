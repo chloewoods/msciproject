{
 "cells": [
  {
   "cell_type": "markdown",
   "metadata": {},
   "source": [
    "Encoding 3 qubits with element comparison\n",
    "\n",
    "Import packages"
   ]
  },
  {
   "cell_type": "code",
   "execution_count": 16,
   "metadata": {},
   "outputs": [],
   "source": [
    "from numpy import *\n",
    "import cmath\n",
    "from random import randrange\n",
    "import pandas as pd\n",
    "import time\n",
    "from IPython.display import clear_output\n",
    "import scipy\n",
    "import matplotlib.pyplot as plt"
   ]
  },
  {
   "cell_type": "markdown",
   "metadata": {},
   "source": [
    "Set variables"
   ]
  },
  {
   "cell_type": "code",
   "execution_count": 40,
   "metadata": {},
   "outputs": [
    {
     "data": {
      "text/plain": [
       "0.9999999999999999"
      ]
     },
     "execution_count": 40,
     "metadata": {},
     "output_type": "execute_result"
    }
   ],
   "source": [
    "a = 1\n",
    "b = 1\n",
    "one = array([[int(0)], [int(1)]])\n",
    "zero = array([[int(1)], [int(0)]])\n",
    "psi = a*zero + b*one\n",
    "psi = psi/norm(psi)\n",
    "\n",
    "psi3 = kron((kron(psi,zero)), zero)\n",
    "norm(psi3)"
   ]
  },
  {
   "cell_type": "code",
   "execution_count": 48,
   "metadata": {},
   "outputs": [],
   "source": [
    "CNOT13 = array([[1,0,0,0,0,0,0,0],[0,1,0,0,0,0,0,0],[0,0,1,0,0,0,0,0],[0,0,0,1,0,0,0,0],[0,0,0,0,0,1,0,0],[0,0,0,0,1,0,0,0],[0,0,0,0,0,0,0,1],[0,0,0,0,0,0,1,0]])\n",
    "CNOT12 = array([[1,0,0,0,0,0,0,0],[0,1,0,0,0,0,0,0],[0,0,1,0,0,0,0,0],[0,0,0,1,0,0,0,0],[0,0,0,0,0,0,1,0],[0,0,0,0,0,0,0,1],[0,0,0,0,1,0,0,0],[0,0,0,0,0,1,0,0]])\n",
    "X = array([[0 , 1], [1, 0]])\n",
    "Z = array([[1,0],[0,-1]])\n",
    "Y = array([[0 , -1j], [1j, 0]])\n",
    "Iden = array([[1 , 0], [0, 1]])\n",
    "Iden3 = array([[1,0,0,0,0,0,0,0],[0,1,0,0,0,0,0,0],[0,0,1,0,0,0,0,0],[0,0,0,1,0,0,0,0],[0,0,0,0,1,0,0,0],[0,0,0,0,0,1,0,0],[0,0,0,0,0,0,1,0],[0,0,0,0,0,0,0,1]])\n",
    "X1 = kron(kron(X, Iden), Iden)\n",
    "X2 = kron(kron(Iden, X), Iden)\n",
    "X3 = kron(kron(Iden, Iden), X)\n",
    "Z1 = kron(kron(Z, Iden), Iden)\n",
    "Z2 = kron(kron(Iden, Z), Iden)\n",
    "Z3 = kron(kron(Iden, Iden), Z)\n",
    "Y1 = kron(kron(Y, Iden), Iden)\n",
    "Y2 = kron(kron(Iden, Y), Iden)\n",
    "Y3 = kron(kron(Iden, Iden), Y)"
   ]
  },
  {
   "cell_type": "markdown",
   "metadata": {},
   "source": [
    "Define target state"
   ]
  },
  {
   "cell_type": "code",
   "execution_count": 47,
   "metadata": {},
   "outputs": [
    {
     "data": {
      "text/plain": [
       "0.9999999999999999"
      ]
     },
     "execution_count": 47,
     "metadata": {},
     "output_type": "execute_result"
    }
   ],
   "source": [
    "right = (CNOT13.dot(CNOT12)).dot(psi3)\n",
    "right.dot(transpose(right.conjugate()))\n",
    "norm(right)"
   ]
  },
  {
   "cell_type": "markdown",
   "metadata": {},
   "source": [
    "Define list of actions the agent can take"
   ]
  },
  {
   "cell_type": "code",
   "execution_count": 6,
   "metadata": {},
   "outputs": [],
   "source": [
    "list2 = [Iden3,CNOT13,CNOT12,X1,X2,X3,Z1,Z2,Z3,Y1,Y2,Y3]"
   ]
  },
  {
   "cell_type": "code",
   "execution_count": 36,
   "metadata": {},
   "outputs": [],
   "source": [
    "def norm(state):\n",
    "    prod = scipy.sqrt(transpose(state.conjugate()).dot(state))\n",
    "    return(asscalar(prod))"
   ]
  },
  {
   "cell_type": "code",
   "execution_count": 45,
   "metadata": {},
   "outputs": [],
   "source": [
    "def fidelitym(guess, right):\n",
    "    den1 = guess.dot(transpose(guess.conjugate()))\n",
    "    #print(den1)\n",
    "    #print(scipy.sqrt(den1))\n",
    "    den2 = right.dot(transpose(right.conjugate()))\n",
    "    #print(scipy.sqrt(den2))\n",
    "    #print(sqrt(den2))\n",
    "    secnd = (den2)*(scipy.sqrt(den1))\n",
    "    mult = (scipy.sqrt(den1))*(secnd)\n",
    "    #print(mult)\n",
    "    root = scipy.sqrt(mult)\n",
    "    #print(root)\n",
    "    score = trace(root)\n",
    "    return(real(score))"
   ]
  },
  {
   "cell_type": "code",
   "execution_count": 68,
   "metadata": {},
   "outputs": [
    {
     "ename": "NameError",
     "evalue": "name 'one2' is not defined",
     "output_type": "error",
     "traceback": [
      "\u001b[1;31m---------------------------------------------------------------------------\u001b[0m",
      "\u001b[1;31mNameError\u001b[0m                                 Traceback (most recent call last)",
      "\u001b[1;32m<ipython-input-68-9c04d8fbeb4f>\u001b[0m in \u001b[0;36m<module>\u001b[1;34m\u001b[0m\n\u001b[1;32m----> 1\u001b[1;33m \u001b[0mfidelitym\u001b[0m\u001b[1;33m(\u001b[0m\u001b[1;33m(\u001b[0m\u001b[1;36m1\u001b[0m\u001b[1;33m/\u001b[0m\u001b[0msqrt\u001b[0m\u001b[1;33m(\u001b[0m\u001b[1;36m2\u001b[0m\u001b[1;33m)\u001b[0m\u001b[1;33m)\u001b[0m\u001b[1;33m*\u001b[0m\u001b[1;33m(\u001b[0m\u001b[0mone2\u001b[0m \u001b[1;33m-\u001b[0m \u001b[0mzeroone\u001b[0m\u001b[1;33m)\u001b[0m\u001b[1;33m,\u001b[0m\u001b[0mright\u001b[0m\u001b[1;33m)\u001b[0m\u001b[1;33m\u001b[0m\u001b[1;33m\u001b[0m\u001b[0m\n\u001b[0m",
      "\u001b[1;31mNameError\u001b[0m: name 'one2' is not defined"
     ]
    }
   ],
   "source": [
    "fidelitym((1/sqrt(2))*(2one - zeroone),right)"
   ]
  },
  {
   "cell_type": "code",
   "execution_count": null,
   "metadata": {},
   "outputs": [],
   "source": []
  },
  {
   "cell_type": "markdown",
   "metadata": {},
   "source": [
    "First set up the dataframe with columns 'state', 'gate', 'new' and 'Q' populated with the initial state and associated actions"
   ]
  },
  {
   "cell_type": "code",
   "execution_count": 49,
   "metadata": {},
   "outputs": [],
   "source": [
    "Q_table = pd.DataFrame()"
   ]
  },
  {
   "cell_type": "code",
   "execution_count": 50,
   "metadata": {},
   "outputs": [],
   "source": [
    "\n",
    "for m in range(0,len(list2)):\n",
    "    gate = m\n",
    "    new = (list2[m].dot(psi3))\n",
    "    Q = pd.DataFrame({'state' : str(psi3), 'gate':gate, 'new': str(new), 'Q':0, 'fidelity':0}, index=[0])\n",
    "    Q_table = Q_table.append(Q)"
   ]
  },
  {
   "cell_type": "markdown",
   "metadata": {},
   "source": [
    "It's easier to call upon cells in string format rather than array format"
   ]
  },
  {
   "cell_type": "code",
   "execution_count": 51,
   "metadata": {},
   "outputs": [],
   "source": [
    "\n",
    "Q_tablestr = Q_table.drop_duplicates()\n",
    "Q_tablestr = Q_tablestr.reset_index(drop=True)"
   ]
  },
  {
   "cell_type": "code",
   "execution_count": 52,
   "metadata": {},
   "outputs": [
    {
     "data": {
      "text/html": [
       "<div>\n",
       "<style scoped>\n",
       "    .dataframe tbody tr th:only-of-type {\n",
       "        vertical-align: middle;\n",
       "    }\n",
       "\n",
       "    .dataframe tbody tr th {\n",
       "        vertical-align: top;\n",
       "    }\n",
       "\n",
       "    .dataframe thead th {\n",
       "        text-align: right;\n",
       "    }\n",
       "</style>\n",
       "<table border=\"1\" class=\"dataframe\">\n",
       "  <thead>\n",
       "    <tr style=\"text-align: right;\">\n",
       "      <th></th>\n",
       "      <th>state</th>\n",
       "      <th>gate</th>\n",
       "      <th>new</th>\n",
       "      <th>Q</th>\n",
       "      <th>fidelity</th>\n",
       "    </tr>\n",
       "  </thead>\n",
       "  <tbody>\n",
       "    <tr>\n",
       "      <td>0</td>\n",
       "      <td>[[0.70710678]\\n [0.        ]\\n [0.        ]\\n ...</td>\n",
       "      <td>0</td>\n",
       "      <td>[[0.70710678]\\n [0.        ]\\n [0.        ]\\n ...</td>\n",
       "      <td>0</td>\n",
       "      <td>0</td>\n",
       "    </tr>\n",
       "    <tr>\n",
       "      <td>1</td>\n",
       "      <td>[[0.70710678]\\n [0.        ]\\n [0.        ]\\n ...</td>\n",
       "      <td>1</td>\n",
       "      <td>[[0.70710678]\\n [0.        ]\\n [0.        ]\\n ...</td>\n",
       "      <td>0</td>\n",
       "      <td>0</td>\n",
       "    </tr>\n",
       "    <tr>\n",
       "      <td>2</td>\n",
       "      <td>[[0.70710678]\\n [0.        ]\\n [0.        ]\\n ...</td>\n",
       "      <td>2</td>\n",
       "      <td>[[0.70710678]\\n [0.        ]\\n [0.        ]\\n ...</td>\n",
       "      <td>0</td>\n",
       "      <td>0</td>\n",
       "    </tr>\n",
       "    <tr>\n",
       "      <td>3</td>\n",
       "      <td>[[0.70710678]\\n [0.        ]\\n [0.        ]\\n ...</td>\n",
       "      <td>3</td>\n",
       "      <td>[[0.70710678]\\n [0.        ]\\n [0.        ]\\n ...</td>\n",
       "      <td>0</td>\n",
       "      <td>0</td>\n",
       "    </tr>\n",
       "    <tr>\n",
       "      <td>4</td>\n",
       "      <td>[[0.70710678]\\n [0.        ]\\n [0.        ]\\n ...</td>\n",
       "      <td>4</td>\n",
       "      <td>[[0.        ]\\n [0.        ]\\n [0.70710678]\\n ...</td>\n",
       "      <td>0</td>\n",
       "      <td>0</td>\n",
       "    </tr>\n",
       "    <tr>\n",
       "      <td>5</td>\n",
       "      <td>[[0.70710678]\\n [0.        ]\\n [0.        ]\\n ...</td>\n",
       "      <td>5</td>\n",
       "      <td>[[0.        ]\\n [0.70710678]\\n [0.        ]\\n ...</td>\n",
       "      <td>0</td>\n",
       "      <td>0</td>\n",
       "    </tr>\n",
       "    <tr>\n",
       "      <td>6</td>\n",
       "      <td>[[0.70710678]\\n [0.        ]\\n [0.        ]\\n ...</td>\n",
       "      <td>6</td>\n",
       "      <td>[[ 0.70710678]\\n [ 0.        ]\\n [ 0.        ]...</td>\n",
       "      <td>0</td>\n",
       "      <td>0</td>\n",
       "    </tr>\n",
       "    <tr>\n",
       "      <td>7</td>\n",
       "      <td>[[0.70710678]\\n [0.        ]\\n [0.        ]\\n ...</td>\n",
       "      <td>7</td>\n",
       "      <td>[[0.70710678]\\n [0.        ]\\n [0.        ]\\n ...</td>\n",
       "      <td>0</td>\n",
       "      <td>0</td>\n",
       "    </tr>\n",
       "    <tr>\n",
       "      <td>8</td>\n",
       "      <td>[[0.70710678]\\n [0.        ]\\n [0.        ]\\n ...</td>\n",
       "      <td>8</td>\n",
       "      <td>[[0.70710678]\\n [0.        ]\\n [0.        ]\\n ...</td>\n",
       "      <td>0</td>\n",
       "      <td>0</td>\n",
       "    </tr>\n",
       "    <tr>\n",
       "      <td>9</td>\n",
       "      <td>[[0.70710678]\\n [0.        ]\\n [0.        ]\\n ...</td>\n",
       "      <td>9</td>\n",
       "      <td>[[0.-0.70710678j]\\n [0.+0.j        ]\\n [0.+0.j...</td>\n",
       "      <td>0</td>\n",
       "      <td>0</td>\n",
       "    </tr>\n",
       "    <tr>\n",
       "      <td>10</td>\n",
       "      <td>[[0.70710678]\\n [0.        ]\\n [0.        ]\\n ...</td>\n",
       "      <td>10</td>\n",
       "      <td>[[0.+0.j        ]\\n [0.+0.j        ]\\n [0.+0.7...</td>\n",
       "      <td>0</td>\n",
       "      <td>0</td>\n",
       "    </tr>\n",
       "    <tr>\n",
       "      <td>11</td>\n",
       "      <td>[[0.70710678]\\n [0.        ]\\n [0.        ]\\n ...</td>\n",
       "      <td>11</td>\n",
       "      <td>[[0.+0.j        ]\\n [0.+0.70710678j]\\n [0.+0.j...</td>\n",
       "      <td>0</td>\n",
       "      <td>0</td>\n",
       "    </tr>\n",
       "  </tbody>\n",
       "</table>\n",
       "</div>"
      ],
      "text/plain": [
       "                                                state  gate  \\\n",
       "0   [[0.70710678]\\n [0.        ]\\n [0.        ]\\n ...     0   \n",
       "1   [[0.70710678]\\n [0.        ]\\n [0.        ]\\n ...     1   \n",
       "2   [[0.70710678]\\n [0.        ]\\n [0.        ]\\n ...     2   \n",
       "3   [[0.70710678]\\n [0.        ]\\n [0.        ]\\n ...     3   \n",
       "4   [[0.70710678]\\n [0.        ]\\n [0.        ]\\n ...     4   \n",
       "5   [[0.70710678]\\n [0.        ]\\n [0.        ]\\n ...     5   \n",
       "6   [[0.70710678]\\n [0.        ]\\n [0.        ]\\n ...     6   \n",
       "7   [[0.70710678]\\n [0.        ]\\n [0.        ]\\n ...     7   \n",
       "8   [[0.70710678]\\n [0.        ]\\n [0.        ]\\n ...     8   \n",
       "9   [[0.70710678]\\n [0.        ]\\n [0.        ]\\n ...     9   \n",
       "10  [[0.70710678]\\n [0.        ]\\n [0.        ]\\n ...    10   \n",
       "11  [[0.70710678]\\n [0.        ]\\n [0.        ]\\n ...    11   \n",
       "\n",
       "                                                  new  Q  fidelity  \n",
       "0   [[0.70710678]\\n [0.        ]\\n [0.        ]\\n ...  0         0  \n",
       "1   [[0.70710678]\\n [0.        ]\\n [0.        ]\\n ...  0         0  \n",
       "2   [[0.70710678]\\n [0.        ]\\n [0.        ]\\n ...  0         0  \n",
       "3   [[0.70710678]\\n [0.        ]\\n [0.        ]\\n ...  0         0  \n",
       "4   [[0.        ]\\n [0.        ]\\n [0.70710678]\\n ...  0         0  \n",
       "5   [[0.        ]\\n [0.70710678]\\n [0.        ]\\n ...  0         0  \n",
       "6   [[ 0.70710678]\\n [ 0.        ]\\n [ 0.        ]...  0         0  \n",
       "7   [[0.70710678]\\n [0.        ]\\n [0.        ]\\n ...  0         0  \n",
       "8   [[0.70710678]\\n [0.        ]\\n [0.        ]\\n ...  0         0  \n",
       "9   [[0.-0.70710678j]\\n [0.+0.j        ]\\n [0.+0.j...  0         0  \n",
       "10  [[0.+0.j        ]\\n [0.+0.j        ]\\n [0.+0.7...  0         0  \n",
       "11  [[0.+0.j        ]\\n [0.+0.70710678j]\\n [0.+0.j...  0         0  "
      ]
     },
     "execution_count": 52,
     "metadata": {},
     "output_type": "execute_result"
    }
   ],
   "source": [
    "Q_tablestr"
   ]
  },
  {
   "cell_type": "markdown",
   "metadata": {},
   "source": [
    "Set variables - these may need to be played about with more to find optimal values"
   ]
  },
  {
   "cell_type": "code",
   "execution_count": 53,
   "metadata": {},
   "outputs": [],
   "source": [
    "alpha = 0.5 #how much we update Q for every new action\n",
    "gamma = 0.9 #discount factor \n",
    "\n",
    "num_iter = 1 #how many agents will come up with their own Q values from scratch\n",
    "num_repeats = 350 #How many events one agent will go through to obtain Q values\n",
    "penalty = 0.1 #How much taken off reward for each step\n",
    "steps = 10 #How many steps in an event"
   ]
  },
  {
   "cell_type": "code",
   "execution_count": 67,
   "metadata": {},
   "outputs": [
    {
     "name": "stdout",
     "output_type": "stream",
     "text": [
      "0 has begun\n",
      "goal reached\n",
      "goal reached\n",
      "goal reached\n",
      "goal reached\n",
      "goal reached\n",
      "goal reached\n"
     ]
    },
    {
     "ename": "KeyboardInterrupt",
     "evalue": "",
     "output_type": "error",
     "traceback": [
      "\u001b[1;31m---------------------------------------------------------------------------\u001b[0m",
      "\u001b[1;31mKeyboardInterrupt\u001b[0m                         Traceback (most recent call last)",
      "\u001b[1;32m<ipython-input-67-b985b418e5a2>\u001b[0m in \u001b[0;36m<module>\u001b[1;34m\u001b[0m\n\u001b[0;32m     22\u001b[0m \u001b[1;33m\u001b[0m\u001b[0m\n\u001b[0;32m     23\u001b[0m \u001b[1;33m\u001b[0m\u001b[0m\n\u001b[1;32m---> 24\u001b[1;33m                 \u001b[0mnews\u001b[0m \u001b[1;33m=\u001b[0m \u001b[0mtable\u001b[0m\u001b[1;33m[\u001b[0m\u001b[0mtable\u001b[0m\u001b[1;33m[\u001b[0m\u001b[1;34m'state'\u001b[0m\u001b[1;33m]\u001b[0m\u001b[1;33m==\u001b[0m\u001b[0mstr\u001b[0m\u001b[1;33m(\u001b[0m\u001b[0mpsinew\u001b[0m\u001b[1;33m)\u001b[0m\u001b[1;33m]\u001b[0m \u001b[1;31m#choose part of dataframe that contains the new state\u001b[0m\u001b[1;33m\u001b[0m\u001b[1;33m\u001b[0m\u001b[0m\n\u001b[0m\u001b[0;32m     25\u001b[0m \u001b[1;33m\u001b[0m\u001b[0m\n\u001b[0;32m     26\u001b[0m                 \u001b[1;32mif\u001b[0m \u001b[0mlen\u001b[0m\u001b[1;33m(\u001b[0m\u001b[0mnews\u001b[0m\u001b[1;33m)\u001b[0m \u001b[1;33m==\u001b[0m \u001b[1;36m0\u001b[0m\u001b[1;33m:\u001b[0m \u001b[1;31m#if the new state is not in the dataframe, insert it with all the possible actions\u001b[0m\u001b[1;33m\u001b[0m\u001b[1;33m\u001b[0m\u001b[0m\n",
      "\u001b[1;32m~\\Anaconda3\\lib\\site-packages\\pandas\\core\\frame.py\u001b[0m in \u001b[0;36m__getitem__\u001b[1;34m(self, key)\u001b[0m\n\u001b[0;32m   2969\u001b[0m         \u001b[1;31m# Do we have a (boolean) 1d indexer?\u001b[0m\u001b[1;33m\u001b[0m\u001b[1;33m\u001b[0m\u001b[1;33m\u001b[0m\u001b[0m\n\u001b[0;32m   2970\u001b[0m         \u001b[1;32mif\u001b[0m \u001b[0mcom\u001b[0m\u001b[1;33m.\u001b[0m\u001b[0mis_bool_indexer\u001b[0m\u001b[1;33m(\u001b[0m\u001b[0mkey\u001b[0m\u001b[1;33m)\u001b[0m\u001b[1;33m:\u001b[0m\u001b[1;33m\u001b[0m\u001b[1;33m\u001b[0m\u001b[0m\n\u001b[1;32m-> 2971\u001b[1;33m             \u001b[1;32mreturn\u001b[0m \u001b[0mself\u001b[0m\u001b[1;33m.\u001b[0m\u001b[0m_getitem_bool_array\u001b[0m\u001b[1;33m(\u001b[0m\u001b[0mkey\u001b[0m\u001b[1;33m)\u001b[0m\u001b[1;33m\u001b[0m\u001b[1;33m\u001b[0m\u001b[0m\n\u001b[0m\u001b[0;32m   2972\u001b[0m \u001b[1;33m\u001b[0m\u001b[0m\n\u001b[0;32m   2973\u001b[0m         \u001b[1;31m# We are left with two options: a single key, and a collection of keys,\u001b[0m\u001b[1;33m\u001b[0m\u001b[1;33m\u001b[0m\u001b[1;33m\u001b[0m\u001b[0m\n",
      "\u001b[1;32m~\\Anaconda3\\lib\\site-packages\\pandas\\core\\frame.py\u001b[0m in \u001b[0;36m_getitem_bool_array\u001b[1;34m(self, key)\u001b[0m\n\u001b[0;32m   3023\u001b[0m         \u001b[0mkey\u001b[0m \u001b[1;33m=\u001b[0m \u001b[0mcheck_bool_indexer\u001b[0m\u001b[1;33m(\u001b[0m\u001b[0mself\u001b[0m\u001b[1;33m.\u001b[0m\u001b[0mindex\u001b[0m\u001b[1;33m,\u001b[0m \u001b[0mkey\u001b[0m\u001b[1;33m)\u001b[0m\u001b[1;33m\u001b[0m\u001b[1;33m\u001b[0m\u001b[0m\n\u001b[0;32m   3024\u001b[0m         \u001b[0mindexer\u001b[0m \u001b[1;33m=\u001b[0m \u001b[0mkey\u001b[0m\u001b[1;33m.\u001b[0m\u001b[0mnonzero\u001b[0m\u001b[1;33m(\u001b[0m\u001b[1;33m)\u001b[0m\u001b[1;33m[\u001b[0m\u001b[1;36m0\u001b[0m\u001b[1;33m]\u001b[0m\u001b[1;33m\u001b[0m\u001b[1;33m\u001b[0m\u001b[0m\n\u001b[1;32m-> 3025\u001b[1;33m         \u001b[1;32mreturn\u001b[0m \u001b[0mself\u001b[0m\u001b[1;33m.\u001b[0m\u001b[0mtake\u001b[0m\u001b[1;33m(\u001b[0m\u001b[0mindexer\u001b[0m\u001b[1;33m,\u001b[0m \u001b[0maxis\u001b[0m\u001b[1;33m=\u001b[0m\u001b[1;36m0\u001b[0m\u001b[1;33m)\u001b[0m\u001b[1;33m\u001b[0m\u001b[1;33m\u001b[0m\u001b[0m\n\u001b[0m\u001b[0;32m   3026\u001b[0m \u001b[1;33m\u001b[0m\u001b[0m\n\u001b[0;32m   3027\u001b[0m     \u001b[1;32mdef\u001b[0m \u001b[0m_getitem_multilevel\u001b[0m\u001b[1;33m(\u001b[0m\u001b[0mself\u001b[0m\u001b[1;33m,\u001b[0m \u001b[0mkey\u001b[0m\u001b[1;33m)\u001b[0m\u001b[1;33m:\u001b[0m\u001b[1;33m\u001b[0m\u001b[1;33m\u001b[0m\u001b[0m\n",
      "\u001b[1;32m~\\Anaconda3\\lib\\site-packages\\pandas\\core\\generic.py\u001b[0m in \u001b[0;36mtake\u001b[1;34m(self, indices, axis, is_copy, **kwargs)\u001b[0m\n\u001b[0;32m   3602\u001b[0m \u001b[1;33m\u001b[0m\u001b[0m\n\u001b[0;32m   3603\u001b[0m         new_data = self._data.take(\n\u001b[1;32m-> 3604\u001b[1;33m             \u001b[0mindices\u001b[0m\u001b[1;33m,\u001b[0m \u001b[0maxis\u001b[0m\u001b[1;33m=\u001b[0m\u001b[0mself\u001b[0m\u001b[1;33m.\u001b[0m\u001b[0m_get_block_manager_axis\u001b[0m\u001b[1;33m(\u001b[0m\u001b[0maxis\u001b[0m\u001b[1;33m)\u001b[0m\u001b[1;33m,\u001b[0m \u001b[0mverify\u001b[0m\u001b[1;33m=\u001b[0m\u001b[1;32mTrue\u001b[0m\u001b[1;33m\u001b[0m\u001b[1;33m\u001b[0m\u001b[0m\n\u001b[0m\u001b[0;32m   3605\u001b[0m         )\n\u001b[0;32m   3606\u001b[0m         \u001b[0mresult\u001b[0m \u001b[1;33m=\u001b[0m \u001b[0mself\u001b[0m\u001b[1;33m.\u001b[0m\u001b[0m_constructor\u001b[0m\u001b[1;33m(\u001b[0m\u001b[0mnew_data\u001b[0m\u001b[1;33m)\u001b[0m\u001b[1;33m.\u001b[0m\u001b[0m__finalize__\u001b[0m\u001b[1;33m(\u001b[0m\u001b[0mself\u001b[0m\u001b[1;33m)\u001b[0m\u001b[1;33m\u001b[0m\u001b[1;33m\u001b[0m\u001b[0m\n",
      "\u001b[1;32m~\\Anaconda3\\lib\\site-packages\\pandas\\core\\internals\\managers.py\u001b[0m in \u001b[0;36mtake\u001b[1;34m(self, indexer, axis, verify, convert)\u001b[0m\n\u001b[0;32m   1393\u001b[0m                 \u001b[1;32mraise\u001b[0m \u001b[0mException\u001b[0m\u001b[1;33m(\u001b[0m\u001b[1;34m\"Indices must be nonzero and less than the axis length\"\u001b[0m\u001b[1;33m)\u001b[0m\u001b[1;33m\u001b[0m\u001b[1;33m\u001b[0m\u001b[0m\n\u001b[0;32m   1394\u001b[0m \u001b[1;33m\u001b[0m\u001b[0m\n\u001b[1;32m-> 1395\u001b[1;33m         \u001b[0mnew_labels\u001b[0m \u001b[1;33m=\u001b[0m \u001b[0mself\u001b[0m\u001b[1;33m.\u001b[0m\u001b[0maxes\u001b[0m\u001b[1;33m[\u001b[0m\u001b[0maxis\u001b[0m\u001b[1;33m]\u001b[0m\u001b[1;33m.\u001b[0m\u001b[0mtake\u001b[0m\u001b[1;33m(\u001b[0m\u001b[0mindexer\u001b[0m\u001b[1;33m)\u001b[0m\u001b[1;33m\u001b[0m\u001b[1;33m\u001b[0m\u001b[0m\n\u001b[0m\u001b[0;32m   1396\u001b[0m         return self.reindex_indexer(\n\u001b[0;32m   1397\u001b[0m             \u001b[0mnew_axis\u001b[0m\u001b[1;33m=\u001b[0m\u001b[0mnew_labels\u001b[0m\u001b[1;33m,\u001b[0m \u001b[0mindexer\u001b[0m\u001b[1;33m=\u001b[0m\u001b[0mindexer\u001b[0m\u001b[1;33m,\u001b[0m \u001b[0maxis\u001b[0m\u001b[1;33m=\u001b[0m\u001b[0maxis\u001b[0m\u001b[1;33m,\u001b[0m \u001b[0mallow_dups\u001b[0m\u001b[1;33m=\u001b[0m\u001b[1;32mTrue\u001b[0m\u001b[1;33m\u001b[0m\u001b[1;33m\u001b[0m\u001b[0m\n",
      "\u001b[1;32m~\\Anaconda3\\lib\\site-packages\\pandas\\core\\indexes\\base.py\u001b[0m in \u001b[0;36mtake\u001b[1;34m(self, indices, axis, allow_fill, fill_value, **kwargs)\u001b[0m\n\u001b[0;32m    900\u001b[0m                 \u001b[0mmsg\u001b[0m \u001b[1;33m=\u001b[0m \u001b[1;34m\"Unable to fill values because {0} cannot contain NA\"\u001b[0m\u001b[1;33m\u001b[0m\u001b[1;33m\u001b[0m\u001b[0m\n\u001b[0;32m    901\u001b[0m                 \u001b[1;32mraise\u001b[0m \u001b[0mValueError\u001b[0m\u001b[1;33m(\u001b[0m\u001b[0mmsg\u001b[0m\u001b[1;33m.\u001b[0m\u001b[0mformat\u001b[0m\u001b[1;33m(\u001b[0m\u001b[0mself\u001b[0m\u001b[1;33m.\u001b[0m\u001b[0m__class__\u001b[0m\u001b[1;33m.\u001b[0m\u001b[0m__name__\u001b[0m\u001b[1;33m)\u001b[0m\u001b[1;33m)\u001b[0m\u001b[1;33m\u001b[0m\u001b[1;33m\u001b[0m\u001b[0m\n\u001b[1;32m--> 902\u001b[1;33m             \u001b[0mtaken\u001b[0m \u001b[1;33m=\u001b[0m \u001b[0mself\u001b[0m\u001b[1;33m.\u001b[0m\u001b[0mvalues\u001b[0m\u001b[1;33m.\u001b[0m\u001b[0mtake\u001b[0m\u001b[1;33m(\u001b[0m\u001b[0mindices\u001b[0m\u001b[1;33m)\u001b[0m\u001b[1;33m\u001b[0m\u001b[1;33m\u001b[0m\u001b[0m\n\u001b[0m\u001b[0;32m    903\u001b[0m         \u001b[1;32mreturn\u001b[0m \u001b[0mself\u001b[0m\u001b[1;33m.\u001b[0m\u001b[0m_shallow_copy\u001b[0m\u001b[1;33m(\u001b[0m\u001b[0mtaken\u001b[0m\u001b[1;33m)\u001b[0m\u001b[1;33m\u001b[0m\u001b[1;33m\u001b[0m\u001b[0m\n\u001b[0;32m    904\u001b[0m \u001b[1;33m\u001b[0m\u001b[0m\n",
      "\u001b[1;31mKeyboardInterrupt\u001b[0m: "
     ]
    }
   ],
   "source": [
    "final = pd.DataFrame() #Dataframe to store state action pairs for top Q values for each agent\n",
    "tots1 = pd.DataFrame() #Dataframe to store all Q values of all agents \n",
    "for iter in range(0,num_iter): #Begin an agent\n",
    "    table = Q_tablestr.copy() #set the starting dataframe (empty Q values or precalculated)\n",
    "    print(str(iter) + ' has begun')\n",
    "    for repeats in range(0,num_repeats):\n",
    "        psiold = psi3 #save the current state\n",
    "        reward = 0 #Reset the reward\n",
    "        for t in range(0,steps): #begin a step\n",
    "            reward += penalty #add more penalty with each step\n",
    "        \n",
    "            sec = table[table['state']==str(psiold)] #choose rows of the original table that contain the current state\n",
    "        \n",
    "            gather = pd.DataFrame() #dataframe to collect all possible new states \n",
    "            for n in range(0,(len(sec))): #iterate through the rows that contain the current state\n",
    "                for z in range(0,len(list2)): # find the action associated with the state in each row\n",
    "                    if(sec.iloc[n]['gate']== z):\n",
    "                        apply = array(list2[z])\n",
    "                        zed = z\n",
    "                    \n",
    "                psinew = apply.dot(psiold) #create new state by applying action\n",
    "                \n",
    "                \n",
    "                news = table[table['state']==str(psinew)] #choose part of dataframe that contains the new state\n",
    "            \n",
    "                if len(news) == 0: #if the new state is not in the dataframe, insert it with all the possible actions\n",
    "                    for s in range(0,len(list2)):\n",
    "                        lad = list2[s].dot(psinew)\n",
    "                        news = pd.DataFrame({'state' : str(psinew), 'gate':s, 'new':str(lad), 'Q':0, 'fidelity':0}, index=[0])\n",
    "                        table = table.append(news)\n",
    "                    \n",
    "                maxQ = max(news['Q']) #find the max Q value the new state\n",
    "                gather = gather.append(news).drop_duplicates() #create a dataframe of all possible new states\n",
    "                plus = 0 #reset award\n",
    "                if (fidelitym(psiold, right)) > 0.99999999999:\n",
    "                     plus = 5\n",
    "                elif (fidelitym(psiold, right)) > 0.85:\n",
    "                     plus = (fidelitym(psiold, right))*(4/(0.15)) + (1 - (fidelityp(psiold, right))*(4/(0.15)))\n",
    "                else:\n",
    "                    plus = 0    \n",
    "                #table.loc[(table.state == str(psiold)) & (table.gate == zed), 'Q'] += alpha*((plus - reward) + gamma*(maxQ) - sec.iloc[n]['Q'])\n",
    "                table.loc[(table.state == str(psiold)) & (table.gate == zed), 'fidelity'] = (fidelitym(psiold, right))\n",
    "                #update the Q value of the old state based on the rewards given by the new state\n",
    "            if plus == 5: #If we have reached the state we want we can stop\n",
    "                print('goal reached')\n",
    "                break\n",
    "            else:\n",
    "                top = gather.loc[(gather.Q == max(gather['Q']))] #collect the max Q value from all possible new states\n",
    "                toparray =[] #sort these into an array with their associated action\n",
    "                actarray =[]\n",
    "                for o in range(0,len(top)):\n",
    "                    for p in range(0,len(list2)):\n",
    "                        if (str((array(list2[p])).dot(psiold)) == (top.iloc[o]['state'])):\n",
    "                            toparray.append((array(list2[p])).dot(psiold))\n",
    "                            actarray.append(p)\n",
    "        \n",
    "                garray =[] #create an array of all possible new states and a corresponding array with associated actions\n",
    "                actg = []\n",
    "                for a in range(0,len(top)):\n",
    "                    for b in range(0,len(list2)):\n",
    "                        if (str((array(list2[b])).dot(psiold)) == (gather.iloc[a]['state'])):\n",
    "                            garray.append((array(list2[b])).dot(psiold))\n",
    "                            actg.append(b)\n",
    "        \n",
    "                q = randrange(100)\n",
    "                if q > 90: #Create a percentage chance that the next state will be one with a max Q value (expoitation) or a state obtained from a random action (exploration)\n",
    "                    r = randrange(len(toparray))\n",
    "                    psiold = toparray[r]\n",
    "                    action = actarray[r]\n",
    "                else:\n",
    "                    r = randrange(len(garray))\n",
    "                    psiold = garray[r]\n",
    "                    action = actg[r]\n",
    "        \n",
    "            #print(str(t) + 'th state is ' + str(psiold) + ' after action ' + str(action))\n",
    "        #print(repeats) \n",
    "    tots1 = tots1.append(table) #add the updated Q values from this agent to a table\n",
    "    oppa = table.loc[(table.state == str(psi3))] #select the rows with the initial state\n",
    "    lol = oppa.sort_values(\"Q\", ascending=False) #sort according to Q value\n",
    "    top = lol.head(1) #Choose the state action pair with the top Q value\n",
    "    for n in [0, 1, 2]:\n",
    "        \n",
    "        oppa1 = table.loc[(table.state == top['new'].values[n])] #Find the state that results from the top action being applied\n",
    "        lol = oppa1.sort_values(\"Q\", ascending=False) #find the max Q value of next state\n",
    "        top1 = lol.head(1)\n",
    "        \n",
    "        top = top.append(top1) #add it to the dataframe of steps\n",
    "        #print(top1)\n",
    "         \n",
    "    final = final.append(top) #add this agents top first 4 steps to the other agents top first 4 steps\n",
    "    "
   ]
  },
  {
   "cell_type": "markdown",
   "metadata": {},
   "source": [
    "Show what each agent got by taking the maximum Q value for 4 steps from the initial state"
   ]
  },
  {
   "cell_type": "code",
   "execution_count": 60,
   "metadata": {},
   "outputs": [
    {
     "data": {
      "text/html": [
       "<div>\n",
       "<style scoped>\n",
       "    .dataframe tbody tr th:only-of-type {\n",
       "        vertical-align: middle;\n",
       "    }\n",
       "\n",
       "    .dataframe tbody tr th {\n",
       "        vertical-align: top;\n",
       "    }\n",
       "\n",
       "    .dataframe thead th {\n",
       "        text-align: right;\n",
       "    }\n",
       "</style>\n",
       "<table border=\"1\" class=\"dataframe\">\n",
       "  <thead>\n",
       "    <tr style=\"text-align: right;\">\n",
       "      <th></th>\n",
       "      <th>state</th>\n",
       "      <th>gate</th>\n",
       "      <th>new</th>\n",
       "      <th>Q</th>\n",
       "      <th>fidelity</th>\n",
       "    </tr>\n",
       "  </thead>\n",
       "  <tbody>\n",
       "    <tr>\n",
       "      <td>2</td>\n",
       "      <td>[[0.70710678]\\n [0.        ]\\n [0.        ]\\n ...</td>\n",
       "      <td>2</td>\n",
       "      <td>[[0.70710678]\\n [0.        ]\\n [0.        ]\\n ...</td>\n",
       "      <td>31.060208</td>\n",
       "      <td>0.5</td>\n",
       "    </tr>\n",
       "    <tr>\n",
       "      <td>0</td>\n",
       "      <td>[[0.70710678]\\n [0.        ]\\n [0.        ]\\n ...</td>\n",
       "      <td>1</td>\n",
       "      <td>[[0.70710678]\\n [0.        ]\\n [0.        ]\\n ...</td>\n",
       "      <td>34.870146</td>\n",
       "      <td>0.5</td>\n",
       "    </tr>\n",
       "    <tr>\n",
       "      <td>0</td>\n",
       "      <td>[[0.70710678]\\n [0.        ]\\n [0.        ]\\n ...</td>\n",
       "      <td>0</td>\n",
       "      <td>[[0.70710678]\\n [0.        ]\\n [0.        ]\\n ...</td>\n",
       "      <td>39.750710</td>\n",
       "      <td>1.0</td>\n",
       "    </tr>\n",
       "    <tr>\n",
       "      <td>0</td>\n",
       "      <td>[[0.70710678]\\n [0.        ]\\n [0.        ]\\n ...</td>\n",
       "      <td>0</td>\n",
       "      <td>[[0.70710678]\\n [0.        ]\\n [0.        ]\\n ...</td>\n",
       "      <td>39.750710</td>\n",
       "      <td>1.0</td>\n",
       "    </tr>\n",
       "  </tbody>\n",
       "</table>\n",
       "</div>"
      ],
      "text/plain": [
       "                                               state  gate  \\\n",
       "2  [[0.70710678]\\n [0.        ]\\n [0.        ]\\n ...     2   \n",
       "0  [[0.70710678]\\n [0.        ]\\n [0.        ]\\n ...     1   \n",
       "0  [[0.70710678]\\n [0.        ]\\n [0.        ]\\n ...     0   \n",
       "0  [[0.70710678]\\n [0.        ]\\n [0.        ]\\n ...     0   \n",
       "\n",
       "                                                 new          Q  fidelity  \n",
       "2  [[0.70710678]\\n [0.        ]\\n [0.        ]\\n ...  31.060208       0.5  \n",
       "0  [[0.70710678]\\n [0.        ]\\n [0.        ]\\n ...  34.870146       0.5  \n",
       "0  [[0.70710678]\\n [0.        ]\\n [0.        ]\\n ...  39.750710       1.0  \n",
       "0  [[0.70710678]\\n [0.        ]\\n [0.        ]\\n ...  39.750710       1.0  "
      ]
     },
     "execution_count": 60,
     "metadata": {},
     "output_type": "execute_result"
    }
   ],
   "source": [
    "final.head(30)"
   ]
  },
  {
   "cell_type": "markdown",
   "metadata": {},
   "source": [
    "Combine the Q values from each agent and set the definitive Q value as the average"
   ]
  },
  {
   "cell_type": "code",
   "execution_count": 64,
   "metadata": {},
   "outputs": [],
   "source": [
    "together = tots1.groupby(['state','gate','new', 'fidelity'])['Q'].mean().reset_index()"
   ]
  },
  {
   "cell_type": "markdown",
   "metadata": {},
   "source": [
    "Showing what the Q values are from the first state"
   ]
  },
  {
   "cell_type": "code",
   "execution_count": 65,
   "metadata": {},
   "outputs": [
    {
     "data": {
      "text/html": [
       "<div>\n",
       "<style scoped>\n",
       "    .dataframe tbody tr th:only-of-type {\n",
       "        vertical-align: middle;\n",
       "    }\n",
       "\n",
       "    .dataframe tbody tr th {\n",
       "        vertical-align: top;\n",
       "    }\n",
       "\n",
       "    .dataframe thead th {\n",
       "        text-align: right;\n",
       "    }\n",
       "</style>\n",
       "<table border=\"1\" class=\"dataframe\">\n",
       "  <thead>\n",
       "    <tr style=\"text-align: right;\">\n",
       "      <th></th>\n",
       "      <th>state</th>\n",
       "      <th>gate</th>\n",
       "      <th>new</th>\n",
       "      <th>fidelity</th>\n",
       "      <th>Q</th>\n",
       "    </tr>\n",
       "  </thead>\n",
       "  <tbody>\n",
       "    <tr>\n",
       "      <td>792</td>\n",
       "      <td>[[0.70710678]\\n [0.        ]\\n [0.        ]\\n ...</td>\n",
       "      <td>0</td>\n",
       "      <td>[[0.70710678]\\n [0.        ]\\n [0.        ]\\n ...</td>\n",
       "      <td>0.5</td>\n",
       "      <td>27.471212</td>\n",
       "    </tr>\n",
       "    <tr>\n",
       "      <td>793</td>\n",
       "      <td>[[0.70710678]\\n [0.        ]\\n [0.        ]\\n ...</td>\n",
       "      <td>1</td>\n",
       "      <td>[[0.70710678]\\n [0.        ]\\n [0.        ]\\n ...</td>\n",
       "      <td>0.5</td>\n",
       "      <td>-0.550035</td>\n",
       "    </tr>\n",
       "    <tr>\n",
       "      <td>794</td>\n",
       "      <td>[[0.70710678]\\n [0.        ]\\n [0.        ]\\n ...</td>\n",
       "      <td>2</td>\n",
       "      <td>[[0.70710678]\\n [0.        ]\\n [0.        ]\\n ...</td>\n",
       "      <td>0.5</td>\n",
       "      <td>31.060208</td>\n",
       "    </tr>\n",
       "    <tr>\n",
       "      <td>795</td>\n",
       "      <td>[[0.70710678]\\n [0.        ]\\n [0.        ]\\n ...</td>\n",
       "      <td>3</td>\n",
       "      <td>[[0.70710678]\\n [0.        ]\\n [0.        ]\\n ...</td>\n",
       "      <td>0.5</td>\n",
       "      <td>27.550182</td>\n",
       "    </tr>\n",
       "    <tr>\n",
       "      <td>796</td>\n",
       "      <td>[[0.70710678]\\n [0.        ]\\n [0.        ]\\n ...</td>\n",
       "      <td>4</td>\n",
       "      <td>[[0.        ]\\n [0.        ]\\n [0.70710678]\\n ...</td>\n",
       "      <td>0.5</td>\n",
       "      <td>-1.084410</td>\n",
       "    </tr>\n",
       "    <tr>\n",
       "      <td>797</td>\n",
       "      <td>[[0.70710678]\\n [0.        ]\\n [0.        ]\\n ...</td>\n",
       "      <td>5</td>\n",
       "      <td>[[0.        ]\\n [0.70710678]\\n [0.        ]\\n ...</td>\n",
       "      <td>0.5</td>\n",
       "      <td>-0.842535</td>\n",
       "    </tr>\n",
       "    <tr>\n",
       "      <td>798</td>\n",
       "      <td>[[0.70710678]\\n [0.        ]\\n [0.        ]\\n ...</td>\n",
       "      <td>6</td>\n",
       "      <td>[[ 0.70710678]\\n [ 0.        ]\\n [ 0.        ]...</td>\n",
       "      <td>0.5</td>\n",
       "      <td>-1.033785</td>\n",
       "    </tr>\n",
       "    <tr>\n",
       "      <td>799</td>\n",
       "      <td>[[0.70710678]\\n [0.        ]\\n [0.        ]\\n ...</td>\n",
       "      <td>7</td>\n",
       "      <td>[[0.70710678]\\n [0.        ]\\n [0.        ]\\n ...</td>\n",
       "      <td>0.5</td>\n",
       "      <td>27.550182</td>\n",
       "    </tr>\n",
       "    <tr>\n",
       "      <td>800</td>\n",
       "      <td>[[0.70710678]\\n [0.        ]\\n [0.        ]\\n ...</td>\n",
       "      <td>8</td>\n",
       "      <td>[[0.70710678]\\n [0.        ]\\n [0.        ]\\n ...</td>\n",
       "      <td>0.5</td>\n",
       "      <td>27.550182</td>\n",
       "    </tr>\n",
       "    <tr>\n",
       "      <td>801</td>\n",
       "      <td>[[0.70710678]\\n [0.        ]\\n [0.        ]\\n ...</td>\n",
       "      <td>9</td>\n",
       "      <td>[[0.-0.70710678j]\\n [0.+0.j        ]\\n [0.+0.j...</td>\n",
       "      <td>0.5</td>\n",
       "      <td>-0.325035</td>\n",
       "    </tr>\n",
       "    <tr>\n",
       "      <td>802</td>\n",
       "      <td>[[0.70710678]\\n [0.        ]\\n [0.        ]\\n ...</td>\n",
       "      <td>10</td>\n",
       "      <td>[[0.+0.j        ]\\n [0.+0.j        ]\\n [0.+0.7...</td>\n",
       "      <td>0.5</td>\n",
       "      <td>-0.325035</td>\n",
       "    </tr>\n",
       "    <tr>\n",
       "      <td>803</td>\n",
       "      <td>[[0.70710678]\\n [0.        ]\\n [0.        ]\\n ...</td>\n",
       "      <td>11</td>\n",
       "      <td>[[0.+0.j        ]\\n [0.+0.70710678j]\\n [0.+0.j...</td>\n",
       "      <td>0.5</td>\n",
       "      <td>-0.325035</td>\n",
       "    </tr>\n",
       "  </tbody>\n",
       "</table>\n",
       "</div>"
      ],
      "text/plain": [
       "                                                 state  gate  \\\n",
       "792  [[0.70710678]\\n [0.        ]\\n [0.        ]\\n ...     0   \n",
       "793  [[0.70710678]\\n [0.        ]\\n [0.        ]\\n ...     1   \n",
       "794  [[0.70710678]\\n [0.        ]\\n [0.        ]\\n ...     2   \n",
       "795  [[0.70710678]\\n [0.        ]\\n [0.        ]\\n ...     3   \n",
       "796  [[0.70710678]\\n [0.        ]\\n [0.        ]\\n ...     4   \n",
       "797  [[0.70710678]\\n [0.        ]\\n [0.        ]\\n ...     5   \n",
       "798  [[0.70710678]\\n [0.        ]\\n [0.        ]\\n ...     6   \n",
       "799  [[0.70710678]\\n [0.        ]\\n [0.        ]\\n ...     7   \n",
       "800  [[0.70710678]\\n [0.        ]\\n [0.        ]\\n ...     8   \n",
       "801  [[0.70710678]\\n [0.        ]\\n [0.        ]\\n ...     9   \n",
       "802  [[0.70710678]\\n [0.        ]\\n [0.        ]\\n ...    10   \n",
       "803  [[0.70710678]\\n [0.        ]\\n [0.        ]\\n ...    11   \n",
       "\n",
       "                                                   new  fidelity          Q  \n",
       "792  [[0.70710678]\\n [0.        ]\\n [0.        ]\\n ...       0.5  27.471212  \n",
       "793  [[0.70710678]\\n [0.        ]\\n [0.        ]\\n ...       0.5  -0.550035  \n",
       "794  [[0.70710678]\\n [0.        ]\\n [0.        ]\\n ...       0.5  31.060208  \n",
       "795  [[0.70710678]\\n [0.        ]\\n [0.        ]\\n ...       0.5  27.550182  \n",
       "796  [[0.        ]\\n [0.        ]\\n [0.70710678]\\n ...       0.5  -1.084410  \n",
       "797  [[0.        ]\\n [0.70710678]\\n [0.        ]\\n ...       0.5  -0.842535  \n",
       "798  [[ 0.70710678]\\n [ 0.        ]\\n [ 0.        ]...       0.5  -1.033785  \n",
       "799  [[0.70710678]\\n [0.        ]\\n [0.        ]\\n ...       0.5  27.550182  \n",
       "800  [[0.70710678]\\n [0.        ]\\n [0.        ]\\n ...       0.5  27.550182  \n",
       "801  [[0.-0.70710678j]\\n [0.+0.j        ]\\n [0.+0.j...       0.5  -0.325035  \n",
       "802  [[0.+0.j        ]\\n [0.+0.j        ]\\n [0.+0.7...       0.5  -0.325035  \n",
       "803  [[0.+0.j        ]\\n [0.+0.70710678j]\\n [0.+0.j...       0.5  -0.325035  "
      ]
     },
     "execution_count": 65,
     "metadata": {},
     "output_type": "execute_result"
    }
   ],
   "source": [
    "together[together['state'] == str(list2[0].dot(list2[0].dot(psi3)))]"
   ]
  },
  {
   "cell_type": "code",
   "execution_count": null,
   "metadata": {},
   "outputs": [],
   "source": []
  }
 ],
 "metadata": {
  "kernelspec": {
   "display_name": "Python 3",
   "language": "python",
   "name": "python3"
  },
  "language_info": {
   "codemirror_mode": {
    "name": "ipython",
    "version": 3
   },
   "file_extension": ".py",
   "mimetype": "text/x-python",
   "name": "python",
   "nbconvert_exporter": "python",
   "pygments_lexer": "ipython3",
   "version": "3.7.4"
  }
 },
 "nbformat": 4,
 "nbformat_minor": 2
}
