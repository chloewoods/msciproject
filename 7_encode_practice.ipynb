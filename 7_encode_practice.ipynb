{
 "cells": [
  {
   "cell_type": "markdown",
   "metadata": {},
   "source": [
    "Import first"
   ]
  },
  {
   "cell_type": "code",
   "execution_count": 58,
   "metadata": {},
   "outputs": [],
   "source": [
    "from numpy import *\n",
    "import cmath\n",
    "from random import randrange"
   ]
  },
  {
   "cell_type": "markdown",
   "metadata": {},
   "source": [
    "Set variables"
   ]
  },
  {
   "cell_type": "code",
   "execution_count": 59,
   "metadata": {},
   "outputs": [],
   "source": [
    "theta = pi/4\n",
    "phi = 0\n",
    "a = cos(theta)\n",
    "#b = exp(1j*phi)*sin(theta)\n",
    "b = sin(theta)"
   ]
  },
  {
   "cell_type": "code",
   "execution_count": 60,
   "metadata": {},
   "outputs": [],
   "source": [
    "one = array([[int(0) + 0j], [int(1) +0j]])\n",
    "zero = array([[int(1) + 0j], [int(0) + 0j]])\n",
    "psi = a*zero + b*one"
   ]
  },
  {
   "cell_type": "code",
   "execution_count": 61,
   "metadata": {},
   "outputs": [
    {
     "data": {
      "text/plain": [
       "array([[0.70710678+0.j],\n",
       "       [0.70710678+0.j]])"
      ]
     },
     "execution_count": 61,
     "metadata": {},
     "output_type": "execute_result"
    }
   ],
   "source": [
    "psi"
   ]
  },
  {
   "cell_type": "markdown",
   "metadata": {},
   "source": [
    "Define matrices"
   ]
  },
  {
   "cell_type": "code",
   "execution_count": 62,
   "metadata": {},
   "outputs": [],
   "source": [
    "X = array([[0 , 1], [1, 0]])\n",
    "Iden = array([[1 , 0], [0, 1]])\n",
    "Z = array([[1,0],[0, -1]])\n",
    "CNOT = array([[1 , 0 , 0 , 0], [0 , 1 , 0 , 0], [0 , 0 , 0 , 1], [0 , 0 , 1 , 0]])"
   ]
  },
  {
   "cell_type": "markdown",
   "metadata": {},
   "source": [
    "Tensor Produucts (bit flips)"
   ]
  },
  {
   "cell_type": "code",
   "execution_count": 63,
   "metadata": {},
   "outputs": [],
   "source": [
    "H = (1/sqrt(2))*array([[1,1],[1, -1]])\n",
    "I = array([[1 , 0], [0, 1]])\n",
    "T = array([[1, 0], [0, exp((1j*pi)/4)]])\n",
    "S = array([[1, 0], [0, 1j]])"
   ]
  },
  {
   "cell_type": "code",
   "execution_count": 64,
   "metadata": {},
   "outputs": [],
   "source": [
    "X = array([[0 , 1], [1,0]])\n",
    "X1 = kron(kron(X, I),I)\n",
    "X2 = kron(kron(I,X),I)\n",
    "X3 = kron(kron(I,I),X)\n",
    "\n",
    "Y = array([[0 , -1j], [1j,0]])\n",
    "Y1 = kron(kron(Y, I),I)\n",
    "Y2 = kron(kron(I,Y),I)\n",
    "Y3 = kron(kron(I,I),Y)\n",
    "\n",
    "Z = array([[1 , 0], [0,-1]])\n",
    "Z1 = kron(kron(Z, I),I)\n",
    "Z2 = kron(kron(I,Z),I)\n",
    "Z3 = kron(kron(I,I),Z)"
   ]
  },
  {
   "cell_type": "code",
   "execution_count": 65,
   "metadata": {},
   "outputs": [],
   "source": [
    "zerop = zero*transpose(zero)\n",
    "onep = one*transpose(one)"
   ]
  },
  {
   "cell_type": "code",
   "execution_count": 77,
   "metadata": {},
   "outputs": [],
   "source": [
    "Z12 = kron(kron(Z, Z), Iden)\n",
    "Z23 = kron(kron(Iden, Z), Z)"
   ]
  },
  {
   "cell_type": "code",
   "execution_count": 66,
   "metadata": {},
   "outputs": [],
   "source": [
    "CNOT13 = kron(kron(zerop,I),I) + kron(kron(onep,I),X)\n",
    "CNOT31 = kron(kron(I,I),zerop) + kron(kron(X,I),onep)\n",
    "CNOT21 = kron(kron(I,zerop),I) + kron(kron(X,onep),I)\n",
    "CNOT23 = kron(kron(I,zerop),I) + kron(kron(I,onep),X)\n",
    "CNOT32 = kron(kron(I,I),zerop) + kron(kron(I,X),onep)\n",
    "CNOT12 = kron(kron(zerop,I),I) + kron(kron(onep,X),I)\n",
    "H1 = kron(kron(H, I), I)\n",
    "H2 = kron(kron(I, H), I)\n",
    "H3 = kron(kron(I, I), H)\n",
    "T1 = kron(kron(T, I), I)\n",
    "T2 = kron(kron(I, T), I)\n",
    "T3 = kron(kron(I, I), T)\n",
    "S1 = kron(kron(S, I), I)\n",
    "S2 = kron(kron(I, S), I)\n",
    "S3 = kron(kron(I, I), S)\n",
    "I3 = kron(kron(I,I),I)"
   ]
  },
  {
   "cell_type": "markdown",
   "metadata": {},
   "source": [
    "Encoding"
   ]
  },
  {
   "cell_type": "code",
   "execution_count": 149,
   "metadata": {},
   "outputs": [
    {
     "data": {
      "text/plain": [
       "array([[0.70710678+0.j],\n",
       "       [0.        +0.j],\n",
       "       [0.        +0.j],\n",
       "       [0.        +0.j],\n",
       "       [0.70710678+0.j],\n",
       "       [0.        +0.j],\n",
       "       [0.        +0.j],\n",
       "       [0.        +0.j]])"
      ]
     },
     "execution_count": 149,
     "metadata": {},
     "output_type": "execute_result"
    }
   ],
   "source": [
    "psi3 = kron((kron(psi,zero)), zero)\n",
    "psi3"
   ]
  },
  {
   "cell_type": "markdown",
   "metadata": {},
   "source": [
    "Applying other gates"
   ]
  },
  {
   "cell_type": "code",
   "execution_count": 69,
   "metadata": {},
   "outputs": [
    {
     "data": {
      "text/plain": [
       "array([[1.+0.j],\n",
       "       [0.+0.j],\n",
       "       [0.+0.j],\n",
       "       [0.+0.j],\n",
       "       [0.+0.j],\n",
       "       [0.+0.j],\n",
       "       [0.+0.j],\n",
       "       [0.+0.j]])"
      ]
     },
     "execution_count": 69,
     "metadata": {},
     "output_type": "execute_result"
    }
   ],
   "source": [
    "test = \n",
    "test"
   ]
  },
  {
   "cell_type": "code",
   "execution_count": 111,
   "metadata": {},
   "outputs": [
    {
     "data": {
      "text/plain": [
       "array([[0.70710678+0.j],\n",
       "       [0.        +0.j],\n",
       "       [0.        +0.j],\n",
       "       [0.        +0.j],\n",
       "       [0.70710678+0.j],\n",
       "       [0.        +0.j],\n",
       "       [0.        +0.j],\n",
       "       [0.        +0.j]])"
      ]
     },
     "execution_count": 111,
     "metadata": {},
     "output_type": "execute_result"
    }
   ],
   "source": [
    "H1.dot(test)"
   ]
  },
  {
   "cell_type": "code",
   "execution_count": 140,
   "metadata": {},
   "outputs": [
    {
     "data": {
      "text/plain": [
       "array([[0.70710678+0.j],\n",
       "       [0.        +0.j],\n",
       "       [0.        +0.j],\n",
       "       [0.        +0.j],\n",
       "       [0.        +0.j],\n",
       "       [0.        +0.j],\n",
       "       [0.        +0.j],\n",
       "       [0.70710678+0.j]])"
      ]
     },
     "execution_count": 140,
     "metadata": {},
     "output_type": "execute_result"
    }
   ],
   "source": [
    "psix = CNOT13.dot(CNOT12.dot(psi3))\n",
    "psix"
   ]
  },
  {
   "cell_type": "code",
   "execution_count": 18,
   "metadata": {},
   "outputs": [
    {
     "data": {
      "text/plain": [
       "array([[1],\n",
       "       [0],\n",
       "       [0],\n",
       "       [0],\n",
       "       [0],\n",
       "       [0],\n",
       "       [0],\n",
       "       [1]])"
      ]
     },
     "execution_count": 18,
     "metadata": {},
     "output_type": "execute_result"
    }
   ],
   "source": [
    "psip = kron((kron(one,one)),one) + kron((kron(zero,zero)),zero)\n",
    "psip"
   ]
  },
  {
   "cell_type": "markdown",
   "metadata": {},
   "source": [
    "Random bit flips"
   ]
  },
  {
   "cell_type": "code",
   "execution_count": 155,
   "metadata": {},
   "outputs": [
    {
     "name": "stdout",
     "output_type": "stream",
     "text": [
      "2\n"
     ]
    }
   ],
   "source": [
    "k = randrange(4)\n",
    "print(k)"
   ]
  },
  {
   "cell_type": "code",
   "execution_count": 156,
   "metadata": {},
   "outputs": [],
   "source": [
    "psie = psi3\n",
    "\n",
    "if k == 0:\n",
    "    psir = X1.dot(psie)\n",
    "elif k == 1:\n",
    "    psir = X2.dot(psie)\n",
    "elif k == 2:\n",
    "    psir = X3.dot(psie)\n",
    "elif k == 3:\n",
    "    psir = psie"
   ]
  },
  {
   "cell_type": "code",
   "execution_count": 157,
   "metadata": {
    "scrolled": true
   },
   "outputs": [
    {
     "data": {
      "text/plain": [
       "array([[0.        +0.j],\n",
       "       [0.70710678+0.j],\n",
       "       [0.        +0.j],\n",
       "       [0.        +0.j],\n",
       "       [0.        +0.j],\n",
       "       [0.70710678+0.j],\n",
       "       [0.        +0.j],\n",
       "       [0.        +0.j]])"
      ]
     },
     "execution_count": 157,
     "metadata": {},
     "output_type": "execute_result"
    }
   ],
   "source": [
    "psir"
   ]
  },
  {
   "cell_type": "code",
   "execution_count": 131,
   "metadata": {},
   "outputs": [
    {
     "data": {
      "text/plain": [
       "0"
      ]
     },
     "execution_count": 131,
     "metadata": {},
     "output_type": "execute_result"
    }
   ],
   "source": [
    "i = transpose(psir).dot(Z12.dot(psir))\n",
    "int(i[0][0].real)"
   ]
  },
  {
   "cell_type": "code",
   "execution_count": 137,
   "metadata": {},
   "outputs": [
    {
     "data": {
      "text/plain": [
       "0"
      ]
     },
     "execution_count": 137,
     "metadata": {},
     "output_type": "execute_result"
    }
   ],
   "source": []
  },
  {
   "cell_type": "code",
   "execution_count": 162,
   "metadata": {},
   "outputs": [
    {
     "data": {
      "text/plain": [
       "array([[ 0.        +0.j],\n",
       "       [-0.70710678+0.j],\n",
       "       [ 0.        +0.j],\n",
       "       [ 0.        +0.j],\n",
       "       [ 0.        +0.j],\n",
       "       [-0.70710678+0.j],\n",
       "       [ 0.        +0.j],\n",
       "       [ 0.        +0.j]])"
      ]
     },
     "execution_count": 162,
     "metadata": {},
     "output_type": "execute_result"
    }
   ],
   "source": [
    "Z23.dot(psir)"
   ]
  },
  {
   "cell_type": "markdown",
   "metadata": {},
   "source": [
    "Syndrome"
   ]
  },
  {
   "cell_type": "code",
   "execution_count": 160,
   "metadata": {},
   "outputs": [
    {
     "data": {
      "text/plain": [
       "-1"
      ]
     },
     "execution_count": 160,
     "metadata": {},
     "output_type": "execute_result"
    }
   ],
   "source": [
    "o = (transpose(psir)).dot(Z23.dot(psir))\n",
    "int((o[0][0]).real)"
   ]
  },
  {
   "cell_type": "code",
   "execution_count": 158,
   "metadata": {},
   "outputs": [
    {
     "name": "stdout",
     "output_type": "stream",
     "text": [
      "error\n"
     ]
    },
    {
     "data": {
      "text/plain": [
       "0"
      ]
     },
     "execution_count": 158,
     "metadata": {},
     "output_type": "execute_result"
    }
   ],
   "source": [
    "o = (transpose(Z12.dot(psir))).dot(psir)\n",
    "if int((o[0][0]).real)==1:\n",
    "    val1 = 0\n",
    "elif int((o[0][0]).real)== -1:\n",
    "    val1 = 1\n",
    "else:\n",
    "    print('error')\n",
    "    val1 = int((o[0][0]).real)\n",
    "\n",
    "val1"
   ]
  },
  {
   "cell_type": "code",
   "execution_count": 159,
   "metadata": {},
   "outputs": [
    {
     "data": {
      "text/plain": [
       "1"
      ]
     },
     "execution_count": 159,
     "metadata": {},
     "output_type": "execute_result"
    }
   ],
   "source": [
    "p = (transpose(Z23.dot(psir))).dot(psir)\n",
    "if int((p[0][0]).real)==1:\n",
    "    val2 = 0\n",
    "elif int((p[0][0]).real)== -1:\n",
    "    val2 = 1\n",
    "else:\n",
    "    print('error')\n",
    "    val2 = int((p[0][0]).real)\n",
    "val2"
   ]
  },
  {
   "cell_type": "code",
   "execution_count": 148,
   "metadata": {},
   "outputs": [
    {
     "name": "stdout",
     "output_type": "stream",
     "text": [
      "Qubit 3 has flipped\n"
     ]
    }
   ],
   "source": [
    "if (val1 == 0) & (val2 == 0):\n",
    "    print(\"No error\")\n",
    "    err = 0\n",
    "elif (val1 == 0) & (val2 == 1):\n",
    "    print(\"Qubit 3 has flipped\")\n",
    "    err = 3\n",
    "elif (val1 == 1) & (val2 == 1):\n",
    "    print(\"Qubit 2 has flipped\")\n",
    "    err = 2\n",
    "elif (val1 == 1) & (val2 == 0):\n",
    "    print(\"Qubit 1 has flipped\")\n",
    "    err = 1"
   ]
  },
  {
   "cell_type": "markdown",
   "metadata": {},
   "source": [
    "Correction"
   ]
  },
  {
   "cell_type": "code",
   "execution_count": 123,
   "metadata": {},
   "outputs": [],
   "source": [
    "if err == 1:\n",
    "    psif = (X1.dot(psir))\n",
    "elif err == 2:\n",
    "    psif = X2.dot(psir)\n",
    "elif err == 3:\n",
    "    psif = (X3.dot(psir))\n",
    "elif err == 0:\n",
    "    psif = psir"
   ]
  },
  {
   "cell_type": "code",
   "execution_count": 124,
   "metadata": {},
   "outputs": [
    {
     "data": {
      "text/plain": [
       "array([[0.70710678+0.j],\n",
       "       [0.        +0.j],\n",
       "       [0.        +0.j],\n",
       "       [0.        +0.j],\n",
       "       [0.70710678+0.j],\n",
       "       [0.        +0.j],\n",
       "       [0.        +0.j],\n",
       "       [0.        +0.j]])"
      ]
     },
     "execution_count": 124,
     "metadata": {},
     "output_type": "execute_result"
    }
   ],
   "source": [
    "psif"
   ]
  },
  {
   "cell_type": "markdown",
   "metadata": {},
   "source": [
    "Decoding"
   ]
  },
  {
   "cell_type": "code",
   "execution_count": 54,
   "metadata": {},
   "outputs": [
    {
     "data": {
      "text/plain": [
       "array([[0.70710678+0.j],\n",
       "       [0.        +0.j],\n",
       "       [0.        +0.j],\n",
       "       [0.        +0.j],\n",
       "       [0.70710678+0.j],\n",
       "       [0.        +0.j],\n",
       "       [0.        +0.j],\n",
       "       [0.        +0.j]])"
      ]
     },
     "execution_count": 54,
     "metadata": {},
     "output_type": "execute_result"
    }
   ],
   "source": [
    "CNOT13.dot(CNOT12.dot(psix))"
   ]
  },
  {
   "cell_type": "code",
   "execution_count": 125,
   "metadata": {},
   "outputs": [
    {
     "data": {
      "text/plain": [
       "array([[1.+0.j],\n",
       "       [0.+0.j],\n",
       "       [0.+0.j],\n",
       "       [0.+0.j],\n",
       "       [0.+0.j],\n",
       "       [0.+0.j],\n",
       "       [0.+0.j],\n",
       "       [0.+0.j]])"
      ]
     },
     "execution_count": 125,
     "metadata": {},
     "output_type": "execute_result"
    }
   ],
   "source": [
    "H1.dot(psif)"
   ]
  },
  {
   "cell_type": "code",
   "execution_count": 163,
   "metadata": {},
   "outputs": [
    {
     "data": {
      "text/plain": [
       "array([[0.        +0.j],\n",
       "       [0.70710678+0.j],\n",
       "       [0.        +0.j],\n",
       "       [0.        +0.j],\n",
       "       [0.        +0.j],\n",
       "       [0.70710678+0.j],\n",
       "       [0.        +0.j],\n",
       "       [0.        +0.j]])"
      ]
     },
     "execution_count": 163,
     "metadata": {},
     "output_type": "execute_result"
    }
   ],
   "source": [
    "psir"
   ]
  },
  {
   "cell_type": "code",
   "execution_count": null,
   "metadata": {},
   "outputs": [],
   "source": []
  }
 ],
 "metadata": {
  "kernelspec": {
   "display_name": "Python 3",
   "language": "python",
   "name": "python3"
  },
  "language_info": {
   "codemirror_mode": {
    "name": "ipython",
    "version": 3
   },
   "file_extension": ".py",
   "mimetype": "text/x-python",
   "name": "python",
   "nbconvert_exporter": "python",
   "pygments_lexer": "ipython3",
   "version": "3.7.4"
  }
 },
 "nbformat": 4,
 "nbformat_minor": 2
}
