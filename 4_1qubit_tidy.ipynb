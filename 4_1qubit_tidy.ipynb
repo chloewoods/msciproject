{
 "cells": [
  {
   "cell_type": "markdown",
   "metadata": {},
   "source": [
    "Using unitary gates of 1 qubit to reach a desired target state, the rewards are determined by element comparison"
   ]
  },
  {
   "cell_type": "markdown",
   "metadata": {},
   "source": [
    "Import Packages"
   ]
  },
  {
   "cell_type": "code",
   "execution_count": 1,
   "metadata": {},
   "outputs": [],
   "source": [
    "from numpy import *\n",
    "import cmath\n",
    "from random import randrange\n",
    "import pandas as pd\n",
    "import time\n",
    "from IPython.display import clear_output"
   ]
  },
  {
   "cell_type": "markdown",
   "metadata": {},
   "source": [
    "Define gates and states"
   ]
  },
  {
   "cell_type": "code",
   "execution_count": 2,
   "metadata": {},
   "outputs": [
    {
     "data": {
      "text/plain": [
       "array([[0.70710678],\n",
       "       [0.70710678]])"
      ]
     },
     "execution_count": 2,
     "metadata": {},
     "output_type": "execute_result"
    }
   ],
   "source": [
    "a = 0.5\n",
    "b = 0.5\n",
    "one = array([[int(0)], [int(1)]])\n",
    "zero = array([[int(1)], [int(0)]])\n",
    "psi1 = (1/(sqrt(2)))*(zero + one)\n",
    "psi1"
   ]
  },
  {
   "cell_type": "code",
   "execution_count": 3,
   "metadata": {},
   "outputs": [],
   "source": [
    "X = array([[0 , 1], [1, 0]])\n",
    "Z = array([[1,0],[0,-1]])\n",
    "Iden = array([[1 , 0], [0, 1]])\n",
    "Y = array([[0 , -1j], [1j, 0]])\n",
    "H = (1/(sqrt(2)))*array([[1 , 1], [1, -1]])\n",
    "S = array([[1 , 0], [0, 1j]])\n"
   ]
  },
  {
   "cell_type": "code",
   "execution_count": 4,
   "metadata": {},
   "outputs": [
    {
     "data": {
      "text/plain": [
       "array([[0.+1.j],\n",
       "       [0.+0.j]])"
      ]
     },
     "execution_count": 4,
     "metadata": {},
     "output_type": "execute_result"
    }
   ],
   "source": [
    "right = Y.dot(Z.dot(X.dot(zero)))\n",
    "right\n"
   ]
  },
  {
   "cell_type": "markdown",
   "metadata": {},
   "source": [
    "Create list of actions and list of initial states"
   ]
  },
  {
   "cell_type": "code",
   "execution_count": 5,
   "metadata": {},
   "outputs": [],
   "source": [
    "list2 = [Iden, X, Y, Z, H, S]"
   ]
  },
  {
   "cell_type": "code",
   "execution_count": 6,
   "metadata": {},
   "outputs": [],
   "source": [
    "list1 = [zero, one, psi1]"
   ]
  },
  {
   "cell_type": "code",
   "execution_count": 7,
   "metadata": {},
   "outputs": [],
   "source": [
    "def probability(guess, right):\n",
    "    summ = 0\n",
    "    for i in range(0,2):\n",
    "        diff = (guess[i] - right[i])\n",
    "        summ+= abs(diff)\n",
    "    score = 1 - (summ)/2\n",
    "    return(float(score))"
   ]
  },
  {
   "cell_type": "markdown",
   "metadata": {},
   "source": [
    "First set up the dataframe with the correct columns and some initial states"
   ]
  },
  {
   "cell_type": "code",
   "execution_count": 25,
   "metadata": {},
   "outputs": [],
   "source": [
    "Q_table = pd.DataFrame()"
   ]
  },
  {
   "cell_type": "code",
   "execution_count": 26,
   "metadata": {},
   "outputs": [],
   "source": [
    "for i in range(0,len(list1)):\n",
    "    new4 = list1[i]\n",
    "    for m in range(0,len(list2)):\n",
    "        gate = m\n",
    "        new = (list2[m].dot(list1[i]))\n",
    "        Q = pd.DataFrame({'state': str(new4), 'gate':gate, 'new':str(new) ,'Q':0}, index=[0])\n",
    "        Q_table = Q_table.append(Q)\n"
   ]
  },
  {
   "cell_type": "markdown",
   "metadata": {},
   "source": [
    "It's easier to call upon cells in string format rather than array format"
   ]
  },
  {
   "cell_type": "code",
   "execution_count": 27,
   "metadata": {},
   "outputs": [],
   "source": [
    "\n",
    "Q_tablestr = Q_table.drop_duplicates()\n",
    "Q_tablestr = Q_tablestr.reset_index(drop=True)"
   ]
  },
  {
   "cell_type": "markdown",
   "metadata": {},
   "source": [
    "Set variables - these may need to be played about with more to find optimal values"
   ]
  },
  {
   "cell_type": "code",
   "execution_count": 28,
   "metadata": {},
   "outputs": [],
   "source": [
    "table = Q_tablestr.copy()"
   ]
  },
  {
   "cell_type": "code",
   "execution_count": 29,
   "metadata": {},
   "outputs": [],
   "source": [
    "alpha = 0.5 #how much we update Q for every new action\n",
    "gamma = 0.9 #discount factor \n",
    "\n",
    "num_repeats = 100\n"
   ]
  },
  {
   "cell_type": "code",
   "execution_count": 30,
   "metadata": {},
   "outputs": [
    {
     "name": "stdout",
     "output_type": "stream",
     "text": [
      "0\n",
      "1\n",
      "2\n",
      "3\n",
      "4\n",
      "5\n",
      "6\n",
      "7\n",
      "8\n",
      "9\n",
      "10\n",
      "11\n",
      "12\n",
      "13\n",
      "14\n",
      "15\n",
      "16\n",
      "17\n",
      "18\n",
      "19\n",
      "20\n",
      "21\n",
      "22\n",
      "23\n",
      "24\n",
      "25\n",
      "26\n",
      "goal reached\n",
      "27\n",
      "28\n",
      "29\n",
      "30\n",
      "31\n",
      "32\n",
      "goal reached\n",
      "33\n",
      "34\n",
      "goal reached\n",
      "35\n",
      "36\n",
      "goal reached\n",
      "37\n",
      "38\n",
      "39\n",
      "40\n",
      "41\n",
      "42\n",
      "goal reached\n",
      "43\n",
      "goal reached\n",
      "44\n",
      "goal reached\n",
      "45\n",
      "46\n",
      "goal reached\n",
      "47\n",
      "48\n",
      "49\n",
      "50\n",
      "goal reached\n",
      "51\n",
      "goal reached\n",
      "52\n",
      "goal reached\n",
      "53\n",
      "goal reached\n",
      "54\n",
      "55\n",
      "56\n",
      "57\n",
      "goal reached\n",
      "58\n",
      "59\n",
      "goal reached\n",
      "60\n",
      "61\n",
      "goal reached\n",
      "62\n",
      "63\n",
      "goal reached\n",
      "64\n",
      "65\n",
      "goal reached\n",
      "66\n",
      "goal reached\n",
      "67\n",
      "goal reached\n",
      "68\n",
      "goal reached\n",
      "69\n",
      "goal reached\n",
      "70\n",
      "goal reached\n",
      "71\n",
      "72\n",
      "goal reached\n",
      "73\n",
      "74\n",
      "goal reached\n",
      "75\n",
      "goal reached\n",
      "76\n",
      "77\n",
      "78\n",
      "79\n",
      "80\n",
      "goal reached\n",
      "81\n",
      "goal reached\n",
      "82\n",
      "83\n",
      "84\n",
      "85\n",
      "86\n",
      "87\n",
      "88\n",
      "goal reached\n",
      "89\n",
      "goal reached\n",
      "90\n",
      "91\n",
      "92\n",
      "93\n",
      "94\n",
      "goal reached\n",
      "95\n",
      "96\n",
      "97\n",
      "98\n",
      "99\n"
     ]
    }
   ],
   "source": [
    "\n",
    "for repeats in range(0,num_repeats):\n",
    "    k = randrange(len(list1)) # choose a random state from list to start \n",
    "    psiold = list1[k]\n",
    "    reward = 0 # reset award\n",
    "    for t in range(0,5): #begin steps\n",
    "        reward += 0.1 #add more penalty with each step\n",
    "        \n",
    "        sec = table[table['state']==str(psiold)] #choose the part of the dataframe that contains the current state\n",
    "        \n",
    "        gather = pd.DataFrame() #dataframe to collect all possible new states \n",
    "        for n in range(0,(len(sec))): #iterate through the rows that contain the current state\n",
    "            for z in range(0,len(list2)): # find the action associated with the state in each row\n",
    "                if(sec.iloc[n]['gate']== z):\n",
    "                    apply = array(list2[z])\n",
    "                    zed = z\n",
    "                    \n",
    "            psinew = apply.dot(psiold) #create new state by applying action\n",
    "                \n",
    "                \n",
    "            news = table[table['state']==str(psinew)] #choose part of dataframe that contains the new state\n",
    "            \n",
    "            if len(news) == 0: #if the new state is not in the dataframe, insert it with all the possible actions\n",
    "                for s in range(0,len(list2)):\n",
    "                    lad = list2[s].dot(psinew)\n",
    "                    news = pd.DataFrame({'state' : str(psinew), 'gate':s, 'new':str(lad) ,'Q':0}, index=[0])\n",
    "                    table = table.append(news)\n",
    "                    \n",
    "            maxQ = max(news['Q']) #find the max Q value the new state\n",
    "            gather = gather.append(news).drop_duplicates() #create a dataframe of all possible new states\n",
    "            plus = 0 #reset award\n",
    "            if (probability(psiold, right)) == 1: #insert a reward if the new state is the one we want\n",
    "                plus = 1 \n",
    "                    \n",
    "            table.loc[(table.state == str(psiold)) & (table.gate == zed), 'Q'] += alpha*((plus - reward) + gamma*(maxQ) - sec.iloc[n]['Q'])\n",
    "            #update the Q value of the old state based on the rewards given by the new state\n",
    "        if plus == 1: #If we have reached the state we want we can stop\n",
    "            print('goal reached')\n",
    "            break\n",
    "        else:\n",
    "            top = gather.loc[(gather.Q == max(gather['Q']))] #collect the max Q value from all possible new states\n",
    "            toparray =[] #sort these into an array with their associated action\n",
    "            actarray =[]\n",
    "            for o in range(0,len(top)):\n",
    "                for p in range(0,len(list2)):\n",
    "                    if (str((array(list2[p])).dot(psiold)) == (top.iloc[o]['state'])):\n",
    "                        toparray.append((array(list2[p])).dot(psiold))\n",
    "                        actarray.append(p)\n",
    "        \n",
    "            garray =[] #create an array of all possible new states with associated actions\n",
    "            actg = []\n",
    "            for a in range(0,len(top)):\n",
    "                for b in range(0,len(list2)):\n",
    "                    if (str((array(list2[b])).dot(psiold)) == (gather.iloc[a]['state'])):\n",
    "                        garray.append((array(list2[b])).dot(psiold))\n",
    "                        actg.append(b)\n",
    "        \n",
    "            q = randrange(100)\n",
    "            if q > 50: #Create a percentage chance that the next state will be one with a max Q value (expoitation) or a state obtained from a random action (exploration)\n",
    "                r = randrange(len(toparray))\n",
    "                psiold = toparray[r]\n",
    "                action = actarray[r]\n",
    "            else:\n",
    "                r = randrange(len(garray))\n",
    "                psiold = garray[r]\n",
    "                action = actg[r]\n",
    "        \n",
    "        #print(str(t) + 'th state is ' + str(psiold) + ' after action ' + str(action))\n",
    "    print(repeats)"
   ]
  },
  {
   "cell_type": "markdown",
   "metadata": {},
   "source": [
    "Show the Q values from initial state"
   ]
  },
  {
   "cell_type": "code",
   "execution_count": 31,
   "metadata": {},
   "outputs": [
    {
     "data": {
      "text/html": [
       "<div>\n",
       "<style scoped>\n",
       "    .dataframe tbody tr th:only-of-type {\n",
       "        vertical-align: middle;\n",
       "    }\n",
       "\n",
       "    .dataframe tbody tr th {\n",
       "        vertical-align: top;\n",
       "    }\n",
       "\n",
       "    .dataframe thead th {\n",
       "        text-align: right;\n",
       "    }\n",
       "</style>\n",
       "<table border=\"1\" class=\"dataframe\">\n",
       "  <thead>\n",
       "    <tr style=\"text-align: right;\">\n",
       "      <th></th>\n",
       "      <th>state</th>\n",
       "      <th>gate</th>\n",
       "      <th>new</th>\n",
       "      <th>Q</th>\n",
       "    </tr>\n",
       "  </thead>\n",
       "  <tbody>\n",
       "    <tr>\n",
       "      <td>0</td>\n",
       "      <td>[[1]\\n [0]]</td>\n",
       "      <td>0</td>\n",
       "      <td>[[1]\\n [0]]</td>\n",
       "      <td>2.885877</td>\n",
       "    </tr>\n",
       "    <tr>\n",
       "      <td>1</td>\n",
       "      <td>[[1]\\n [0]]</td>\n",
       "      <td>1</td>\n",
       "      <td>[[0]\\n [1]]</td>\n",
       "      <td>2.898784</td>\n",
       "    </tr>\n",
       "    <tr>\n",
       "      <td>2</td>\n",
       "      <td>[[1]\\n [0]]</td>\n",
       "      <td>2</td>\n",
       "      <td>[[0.+0.j]\\n [0.+1.j]]</td>\n",
       "      <td>3.292215</td>\n",
       "    </tr>\n",
       "    <tr>\n",
       "      <td>3</td>\n",
       "      <td>[[1]\\n [0]]</td>\n",
       "      <td>3</td>\n",
       "      <td>[[1]\\n [0]]</td>\n",
       "      <td>2.845312</td>\n",
       "    </tr>\n",
       "    <tr>\n",
       "      <td>4</td>\n",
       "      <td>[[1]\\n [0]]</td>\n",
       "      <td>4</td>\n",
       "      <td>[[0.70710678]\\n [0.70710678]]</td>\n",
       "      <td>2.168846</td>\n",
       "    </tr>\n",
       "    <tr>\n",
       "      <td>5</td>\n",
       "      <td>[[1]\\n [0]]</td>\n",
       "      <td>5</td>\n",
       "      <td>[[1.+0.j]\\n [0.+0.j]]</td>\n",
       "      <td>-0.717169</td>\n",
       "    </tr>\n",
       "  </tbody>\n",
       "</table>\n",
       "</div>"
      ],
      "text/plain": [
       "         state  gate                            new         Q\n",
       "0  [[1]\\n [0]]     0                    [[1]\\n [0]]  2.885877\n",
       "1  [[1]\\n [0]]     1                    [[0]\\n [1]]  2.898784\n",
       "2  [[1]\\n [0]]     2          [[0.+0.j]\\n [0.+1.j]]  3.292215\n",
       "3  [[1]\\n [0]]     3                    [[1]\\n [0]]  2.845312\n",
       "4  [[1]\\n [0]]     4  [[0.70710678]\\n [0.70710678]]  2.168846\n",
       "5  [[1]\\n [0]]     5          [[1.+0.j]\\n [0.+0.j]] -0.717169"
      ]
     },
     "execution_count": 31,
     "metadata": {},
     "output_type": "execute_result"
    }
   ],
   "source": [
    "table[table['state'] == str(list2[0].dot(list2[0].dot(zero)))]"
   ]
  },
  {
   "cell_type": "markdown",
   "metadata": {},
   "source": [
    "Show what actions are taken when following the max Q value for each state action pair"
   ]
  },
  {
   "cell_type": "code",
   "execution_count": 32,
   "metadata": {},
   "outputs": [
    {
     "data": {
      "text/html": [
       "<div>\n",
       "<style scoped>\n",
       "    .dataframe tbody tr th:only-of-type {\n",
       "        vertical-align: middle;\n",
       "    }\n",
       "\n",
       "    .dataframe tbody tr th {\n",
       "        vertical-align: top;\n",
       "    }\n",
       "\n",
       "    .dataframe thead th {\n",
       "        text-align: right;\n",
       "    }\n",
       "</style>\n",
       "<table border=\"1\" class=\"dataframe\">\n",
       "  <thead>\n",
       "    <tr style=\"text-align: right;\">\n",
       "      <th></th>\n",
       "      <th>state</th>\n",
       "      <th>gate</th>\n",
       "      <th>new</th>\n",
       "      <th>Q</th>\n",
       "    </tr>\n",
       "  </thead>\n",
       "  <tbody>\n",
       "    <tr>\n",
       "      <td>16</td>\n",
       "      <td>[[0.70710678]\\n [0.70710678]]</td>\n",
       "      <td>4</td>\n",
       "      <td>[[1.]\\n [0.]]</td>\n",
       "      <td>2.621016</td>\n",
       "    </tr>\n",
       "    <tr>\n",
       "      <td>0</td>\n",
       "      <td>[[1.]\\n [0.]]</td>\n",
       "      <td>2</td>\n",
       "      <td>[[0.+0.j]\\n [0.+1.j]]</td>\n",
       "      <td>3.133975</td>\n",
       "    </tr>\n",
       "    <tr>\n",
       "      <td>0</td>\n",
       "      <td>[[0.+0.j]\\n [0.+1.j]]</td>\n",
       "      <td>1</td>\n",
       "      <td>[[0.+1.j]\\n [0.+0.j]]</td>\n",
       "      <td>3.882293</td>\n",
       "    </tr>\n",
       "    <tr>\n",
       "      <td>0</td>\n",
       "      <td>[[0.+1.j]\\n [0.+0.j]]</td>\n",
       "      <td>5</td>\n",
       "      <td>[[0.+1.j]\\n [0.+0.j]]</td>\n",
       "      <td>4.790862</td>\n",
       "    </tr>\n",
       "    <tr>\n",
       "      <td>0</td>\n",
       "      <td>[[0.+1.j]\\n [0.+0.j]]</td>\n",
       "      <td>5</td>\n",
       "      <td>[[0.+1.j]\\n [0.+0.j]]</td>\n",
       "      <td>4.790862</td>\n",
       "    </tr>\n",
       "    <tr>\n",
       "      <td>0</td>\n",
       "      <td>[[0.+1.j]\\n [0.+0.j]]</td>\n",
       "      <td>5</td>\n",
       "      <td>[[0.+1.j]\\n [0.+0.j]]</td>\n",
       "      <td>4.790862</td>\n",
       "    </tr>\n",
       "  </tbody>\n",
       "</table>\n",
       "</div>"
      ],
      "text/plain": [
       "                            state  gate                    new         Q\n",
       "16  [[0.70710678]\\n [0.70710678]]     4          [[1.]\\n [0.]]  2.621016\n",
       "0                   [[1.]\\n [0.]]     2  [[0.+0.j]\\n [0.+1.j]]  3.133975\n",
       "0           [[0.+0.j]\\n [0.+1.j]]     1  [[0.+1.j]\\n [0.+0.j]]  3.882293\n",
       "0           [[0.+1.j]\\n [0.+0.j]]     5  [[0.+1.j]\\n [0.+0.j]]  4.790862\n",
       "0           [[0.+1.j]\\n [0.+0.j]]     5  [[0.+1.j]\\n [0.+0.j]]  4.790862\n",
       "0           [[0.+1.j]\\n [0.+0.j]]     5  [[0.+1.j]\\n [0.+0.j]]  4.790862"
      ]
     },
     "execution_count": 32,
     "metadata": {},
     "output_type": "execute_result"
    }
   ],
   "source": [
    "top1 = pd.DataFrame\n",
    "for m in range(0,len(list1)):\n",
    "    \n",
    "    oppa = table.loc[(table.state == str(list1[m]))]\n",
    "    top = oppa.loc[(oppa.Q == max(oppa['Q']))]\n",
    "    for n in range(0,5):\n",
    "        \n",
    "        oppa1 = table.loc[(table.state == top['new'].values[n])]\n",
    "        top1 = oppa1.loc[(oppa1.Q == max(oppa1['Q']))]\n",
    "        \n",
    "        top = top.append(top1)\n",
    "        \n",
    "top.head(30)\n",
    "    "
   ]
  },
  {
   "cell_type": "code",
   "execution_count": null,
   "metadata": {},
   "outputs": [],
   "source": []
  }
 ],
 "metadata": {
  "kernelspec": {
   "display_name": "Python 3",
   "language": "python",
   "name": "python3"
  },
  "language_info": {
   "codemirror_mode": {
    "name": "ipython",
    "version": 3
   },
   "file_extension": ".py",
   "mimetype": "text/x-python",
   "name": "python",
   "nbconvert_exporter": "python",
   "pygments_lexer": "ipython3",
   "version": "3.7.4"
  }
 },
 "nbformat": 4,
 "nbformat_minor": 2
}
