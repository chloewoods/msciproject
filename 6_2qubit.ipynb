{
 "cells": [
  {
   "cell_type": "code",
   "execution_count": 1,
   "metadata": {},
   "outputs": [],
   "source": [
    "from numpy import *\n",
    "import cmath\n",
    "from random import randrange\n",
    "import pandas as pd\n",
    "import time\n",
    "from IPython.display import clear_output\n",
    "import scipy\n",
    "import matplotlib.pyplot as plt"
   ]
  },
  {
   "cell_type": "code",
   "execution_count": 120,
   "metadata": {},
   "outputs": [
    {
     "data": {
      "text/plain": [
       "array([[0.16666667+0.j],\n",
       "       [0.9860133 +0.j]])"
      ]
     },
     "execution_count": 120,
     "metadata": {},
     "output_type": "execute_result"
    }
   ],
   "source": [
    "one = array([[int(0) + 0j], [int(1) + 0j]])\n",
    "zero = array([[int(1) + 0j], [int(0) + 0j]])\n",
    "plus = (1/sqrt(2))*(zero + one)\n",
    "minus = (1/sqrt(2))*(zero - one)\n",
    "psi = (sqrt(1 - (1/6)**2))*one + (1/6)*zero\n",
    "psi"
   ]
  },
  {
   "cell_type": "code",
   "execution_count": 3,
   "metadata": {},
   "outputs": [],
   "source": [
    "def norm(state):\n",
    "    prod = scipy.sqrt(transpose(state.conjugate()).dot(state))\n",
    "    return(asscalar(prod))"
   ]
  },
  {
   "cell_type": "code",
   "execution_count": 4,
   "metadata": {},
   "outputs": [],
   "source": [
    "def fidelityp(guess, right):\n",
    "    mult = (transpose(guess.conjugate())).dot(right)*(transpose(right.conjugate())).dot(guess)\n",
    "    #print(mult)\n",
    "    root = asscalar((mult))\n",
    "    return(abs(root))"
   ]
  },
  {
   "cell_type": "code",
   "execution_count": 6,
   "metadata": {},
   "outputs": [],
   "source": [
    "H = (1/sqrt(2))*array([[1,1],[1, -1]])\n",
    "I = array([[1 , 0], [0, 1]])\n",
    "T = array([[1, 0], [0, exp((1j*pi)/4)]])\n",
    "S = array([[1, 0], [0, 1j]])"
   ]
  },
  {
   "cell_type": "code",
   "execution_count": 7,
   "metadata": {},
   "outputs": [],
   "source": [
    "CNOT12 = array([[1, 0, 0, 0], [0, 1, 0, 0], [0, 0, 0, 1], [0, 0, 1, 0]])\n",
    "CNOT21 = array([[1, 0, 0, 0], [0, 0, 0, 1], [0, 0, 1, 0], [0, 1, 0, 0]])\n",
    "H1 = kron(H,I)\n",
    "H2 = kron(I,H)\n",
    "T1 = kron(T,I)\n",
    "T2 = kron(I,T)\n",
    "I2 = kron(I,I)\n",
    "S1 = kron(S,I)\n",
    "S2 = kron(I,S)"
   ]
  },
  {
   "cell_type": "code",
   "execution_count": 22,
   "metadata": {},
   "outputs": [],
   "source": [
    "X = array([[0 , 1], [1,0]])\n",
    "X1 = kron(X , I)\n",
    "X2 = kron(I,X)"
   ]
  },
  {
   "cell_type": "code",
   "execution_count": 8,
   "metadata": {},
   "outputs": [],
   "source": [
    "glist = [I2, CNOT12, CNOT21, H1, H2, T1, T2, S1, S2]"
   ]
  },
  {
   "cell_type": "code",
   "execution_count": 121,
   "metadata": {},
   "outputs": [
    {
     "data": {
      "text/plain": [
       "array([[0.16666667+0.j],\n",
       "       [0.        +0.j],\n",
       "       [0.9860133 +0.j],\n",
       "       [0.        +0.j]])"
      ]
     },
     "execution_count": 121,
     "metadata": {},
     "output_type": "execute_result"
    }
   ],
   "source": [
    "zero2 = kron(zero,zero)\n",
    "one2 = kron(one,one)\n",
    "zeroone = kron(zero,one)\n",
    "onezero = kron(one,zero)\n",
    "psizero = kron(psi,zero)\n",
    "psizero"
   ]
  },
  {
   "cell_type": "code",
   "execution_count": 68,
   "metadata": {},
   "outputs": [],
   "source": [
    "Q_table = pd.DataFrame()\n",
    "for m in range(0,len(glist)):\n",
    "    gate = m\n",
    "    new = (glist[m].dot(zero2))\n",
    "    Q = pd.DataFrame({'state' : str(zero2), 'gate':gate, 'new': str(new), 'Q':0, 'fidelity':0}, index=[0])\n",
    "    Q_table = Q_table.append(Q)\n",
    "Q_table = Q_table.reset_index(drop=True)"
   ]
  },
  {
   "cell_type": "code",
   "execution_count": 69,
   "metadata": {},
   "outputs": [
    {
     "data": {
      "text/html": [
       "<div>\n",
       "<style scoped>\n",
       "    .dataframe tbody tr th:only-of-type {\n",
       "        vertical-align: middle;\n",
       "    }\n",
       "\n",
       "    .dataframe tbody tr th {\n",
       "        vertical-align: top;\n",
       "    }\n",
       "\n",
       "    .dataframe thead th {\n",
       "        text-align: right;\n",
       "    }\n",
       "</style>\n",
       "<table border=\"1\" class=\"dataframe\">\n",
       "  <thead>\n",
       "    <tr style=\"text-align: right;\">\n",
       "      <th></th>\n",
       "      <th>state</th>\n",
       "      <th>gate</th>\n",
       "      <th>new</th>\n",
       "      <th>Q</th>\n",
       "      <th>fidelity</th>\n",
       "    </tr>\n",
       "  </thead>\n",
       "  <tbody>\n",
       "    <tr>\n",
       "      <td>0</td>\n",
       "      <td>[[1.+0.j]\\n [0.+0.j]\\n [0.+0.j]\\n [0.+0.j]]</td>\n",
       "      <td>0</td>\n",
       "      <td>[[1.+0.j]\\n [0.+0.j]\\n [0.+0.j]\\n [0.+0.j]]</td>\n",
       "      <td>0</td>\n",
       "      <td>0</td>\n",
       "    </tr>\n",
       "    <tr>\n",
       "      <td>1</td>\n",
       "      <td>[[1.+0.j]\\n [0.+0.j]\\n [0.+0.j]\\n [0.+0.j]]</td>\n",
       "      <td>1</td>\n",
       "      <td>[[1.+0.j]\\n [0.+0.j]\\n [0.+0.j]\\n [0.+0.j]]</td>\n",
       "      <td>0</td>\n",
       "      <td>0</td>\n",
       "    </tr>\n",
       "    <tr>\n",
       "      <td>2</td>\n",
       "      <td>[[1.+0.j]\\n [0.+0.j]\\n [0.+0.j]\\n [0.+0.j]]</td>\n",
       "      <td>2</td>\n",
       "      <td>[[1.+0.j]\\n [0.+0.j]\\n [0.+0.j]\\n [0.+0.j]]</td>\n",
       "      <td>0</td>\n",
       "      <td>0</td>\n",
       "    </tr>\n",
       "    <tr>\n",
       "      <td>3</td>\n",
       "      <td>[[1.+0.j]\\n [0.+0.j]\\n [0.+0.j]\\n [0.+0.j]]</td>\n",
       "      <td>3</td>\n",
       "      <td>[[0.70710678+0.j]\\n [0.        +0.j]\\n [0.7071...</td>\n",
       "      <td>0</td>\n",
       "      <td>0</td>\n",
       "    </tr>\n",
       "    <tr>\n",
       "      <td>4</td>\n",
       "      <td>[[1.+0.j]\\n [0.+0.j]\\n [0.+0.j]\\n [0.+0.j]]</td>\n",
       "      <td>4</td>\n",
       "      <td>[[0.70710678+0.j]\\n [0.70710678+0.j]\\n [0.    ...</td>\n",
       "      <td>0</td>\n",
       "      <td>0</td>\n",
       "    </tr>\n",
       "    <tr>\n",
       "      <td>5</td>\n",
       "      <td>[[1.+0.j]\\n [0.+0.j]\\n [0.+0.j]\\n [0.+0.j]]</td>\n",
       "      <td>5</td>\n",
       "      <td>[[1.+0.j]\\n [0.+0.j]\\n [0.+0.j]\\n [0.+0.j]]</td>\n",
       "      <td>0</td>\n",
       "      <td>0</td>\n",
       "    </tr>\n",
       "    <tr>\n",
       "      <td>6</td>\n",
       "      <td>[[1.+0.j]\\n [0.+0.j]\\n [0.+0.j]\\n [0.+0.j]]</td>\n",
       "      <td>6</td>\n",
       "      <td>[[1.+0.j]\\n [0.+0.j]\\n [0.+0.j]\\n [0.+0.j]]</td>\n",
       "      <td>0</td>\n",
       "      <td>0</td>\n",
       "    </tr>\n",
       "    <tr>\n",
       "      <td>7</td>\n",
       "      <td>[[1.+0.j]\\n [0.+0.j]\\n [0.+0.j]\\n [0.+0.j]]</td>\n",
       "      <td>7</td>\n",
       "      <td>[[1.+0.j]\\n [0.+0.j]\\n [0.+0.j]\\n [0.+0.j]]</td>\n",
       "      <td>0</td>\n",
       "      <td>0</td>\n",
       "    </tr>\n",
       "    <tr>\n",
       "      <td>8</td>\n",
       "      <td>[[1.+0.j]\\n [0.+0.j]\\n [0.+0.j]\\n [0.+0.j]]</td>\n",
       "      <td>8</td>\n",
       "      <td>[[1.+0.j]\\n [0.+0.j]\\n [0.+0.j]\\n [0.+0.j]]</td>\n",
       "      <td>0</td>\n",
       "      <td>0</td>\n",
       "    </tr>\n",
       "  </tbody>\n",
       "</table>\n",
       "</div>"
      ],
      "text/plain": [
       "                                         state  gate  \\\n",
       "0  [[1.+0.j]\\n [0.+0.j]\\n [0.+0.j]\\n [0.+0.j]]     0   \n",
       "1  [[1.+0.j]\\n [0.+0.j]\\n [0.+0.j]\\n [0.+0.j]]     1   \n",
       "2  [[1.+0.j]\\n [0.+0.j]\\n [0.+0.j]\\n [0.+0.j]]     2   \n",
       "3  [[1.+0.j]\\n [0.+0.j]\\n [0.+0.j]\\n [0.+0.j]]     3   \n",
       "4  [[1.+0.j]\\n [0.+0.j]\\n [0.+0.j]\\n [0.+0.j]]     4   \n",
       "5  [[1.+0.j]\\n [0.+0.j]\\n [0.+0.j]\\n [0.+0.j]]     5   \n",
       "6  [[1.+0.j]\\n [0.+0.j]\\n [0.+0.j]\\n [0.+0.j]]     6   \n",
       "7  [[1.+0.j]\\n [0.+0.j]\\n [0.+0.j]\\n [0.+0.j]]     7   \n",
       "8  [[1.+0.j]\\n [0.+0.j]\\n [0.+0.j]\\n [0.+0.j]]     8   \n",
       "\n",
       "                                                 new  Q  fidelity  \n",
       "0        [[1.+0.j]\\n [0.+0.j]\\n [0.+0.j]\\n [0.+0.j]]  0         0  \n",
       "1        [[1.+0.j]\\n [0.+0.j]\\n [0.+0.j]\\n [0.+0.j]]  0         0  \n",
       "2        [[1.+0.j]\\n [0.+0.j]\\n [0.+0.j]\\n [0.+0.j]]  0         0  \n",
       "3  [[0.70710678+0.j]\\n [0.        +0.j]\\n [0.7071...  0         0  \n",
       "4  [[0.70710678+0.j]\\n [0.70710678+0.j]\\n [0.    ...  0         0  \n",
       "5        [[1.+0.j]\\n [0.+0.j]\\n [0.+0.j]\\n [0.+0.j]]  0         0  \n",
       "6        [[1.+0.j]\\n [0.+0.j]\\n [0.+0.j]\\n [0.+0.j]]  0         0  \n",
       "7        [[1.+0.j]\\n [0.+0.j]\\n [0.+0.j]\\n [0.+0.j]]  0         0  \n",
       "8        [[1.+0.j]\\n [0.+0.j]\\n [0.+0.j]\\n [0.+0.j]]  0         0  "
      ]
     },
     "execution_count": 69,
     "metadata": {},
     "output_type": "execute_result"
    }
   ],
   "source": [
    "Q_table"
   ]
  },
  {
   "cell_type": "code",
   "execution_count": 70,
   "metadata": {},
   "outputs": [],
   "source": [
    "alpha = 0.5 #how much we update Q for every new action\n",
    "gamma = 0.9 #discount factor \n",
    "\n",
    "num_iter = 1 #how many agents will come up with their own Q values from scratch\n",
    "num_repeats = 350 #How many events one agent will go through to obtain Q values\n",
    "penalty = 0.1 #How much taken off reward for each step\n",
    "steps = 10 #How many steps in an event"
   ]
  },
  {
   "cell_type": "code",
   "execution_count": 71,
   "metadata": {},
   "outputs": [
    {
     "data": {
      "text/plain": [
       "array([[0.+0.j],\n",
       "       [0.+0.j],\n",
       "       [1.+0.j],\n",
       "       [0.+0.j]])"
      ]
     },
     "execution_count": 71,
     "metadata": {},
     "output_type": "execute_result"
    }
   ],
   "source": [
    "right = X1.dot(zero2)\n",
    "right"
   ]
  },
  {
   "cell_type": "code",
   "execution_count": 129,
   "metadata": {
    "scrolled": true
   },
   "outputs": [
    {
     "name": "stdout",
     "output_type": "stream",
     "text": [
      "0 has begun\n",
      "goal reached\n",
      "goal reached\n",
      "goal reached\n",
      "goal reached\n",
      "goal reached\n",
      "goal reached\n",
      "goal reached\n",
      "goal reached\n"
     ]
    }
   ],
   "source": [
    "final = pd.DataFrame() #Dataframe to store state action pairs for top Q values for each agent\n",
    "tots1 = pd.DataFrame() #Dataframe to store all Q values of all agents \n",
    "for iter in range(0,num_iter): #Begin an agent\n",
    "    table = together.copy() #set the starting dataframe (empty Q values or precalculated)\n",
    "    print(str(iter) + ' has begun')\n",
    "    for repeats in range(0,num_repeats):\n",
    "        psinit = zero2.copy()\n",
    "        psiold = psinit.copy()\n",
    "        #save the current state\n",
    "        reward = 0 #Reset the reward\n",
    "        for t in range(0,steps): #begin a step\n",
    "            reward += penalty #add more penalty with each step\n",
    "        \n",
    "            sec = table[table['state']==str(psiold)] #choose rows of the original table that contain the current state\n",
    "            \n",
    "            if len(sec) == 0: #if the new state is not in the dataframe, insert it with all the possible actions\n",
    "                for s in range(0,len(glist)):\n",
    "                    lad = glist[s].dot(psiold)\n",
    "                    sec = pd.DataFrame({'state' : str(psiold), 'gate':s, 'new':str(lad), 'Q':0, 'fidelity':0}, index=[0])\n",
    "                    table = table.append(sec)\n",
    "        \n",
    "            gather = pd.DataFrame() #dataframe to collect all possible new states \n",
    "            for n in range(0,(len(sec))): #iterate through the rows that contain the current state\n",
    "                for z in range(0,len(glist)): # find the action associated with the state in each row\n",
    "                    if(sec.iloc[n]['gate']== z):\n",
    "                        apply = array(glist[z])\n",
    "                        zed = z\n",
    "                    \n",
    "                psinew = apply.dot(psiold) #create new state by applying action\n",
    "                \n",
    "                \n",
    "                news = table[table['state']==str(psinew)] #choose part of dataframe that contains the new state\n",
    "            \n",
    "                if len(news) == 0: #if the new state is not in the dataframe, insert it with all the possible actions\n",
    "                    for s in range(0,len(glist)):\n",
    "                        lad = glist[s].dot(psinew)\n",
    "                        news = pd.DataFrame({'state' : str(psinew), 'gate':s, 'new':str(lad), 'Q':0, 'fidelity':0}, index=[0])\n",
    "                        table = table.append(news)\n",
    "                    \n",
    "                maxQ = max(news['Q']) #find the max Q value the new state\n",
    "                gather = gather.append(news).drop_duplicates() #create a dataframe of all possible new states\n",
    "                plus = 0 #reset award\n",
    "                if (fidelityp(psiold, right)) > 0.99999999999:\n",
    "                     plus = 5\n",
    "                elif (fidelityp(psiold, right)) > 0.85:\n",
    "                     plus = (fidelityp(psiold, right))*(4/(0.15)) + (1 - (fidelityp(psiold, right))*(4/(0.15)))\n",
    "                else:\n",
    "                    plus = 0    \n",
    "                table.loc[(table.state == str(psiold)) & (table.gate == zed), 'Q'] += alpha*((plus - reward) + gamma*(maxQ) - sec.iloc[n]['Q'])\n",
    "                table.loc[(table.state == str(psiold)) & (table.gate == zed), 'fidelity'] = (fidelityp(psiold, right))\n",
    "                #update the Q value of the old state based on the rewards given by the new state\n",
    "            if plus == 5: #If we have reached the state we want we can stop\n",
    "                print('goal reached')\n",
    "                break\n",
    "            else:\n",
    "                top = gather.loc[(gather.Q == max(gather['Q']))] #collect the max Q value from all possible new states\n",
    "                toparray =[] #sort these into an array with their associated action\n",
    "                actarray =[]\n",
    "                for o in range(0,len(top)):\n",
    "                    for p in range(0,len(glist)):\n",
    "                        if (str((array(glist[p])).dot(psiold)) == (top.iloc[o]['state'])):\n",
    "                            toparray.append((array(glist[p])).dot(psiold))\n",
    "                            actarray.append(p)\n",
    "        \n",
    "                garray =[] #create an array of all possible new states and a corresponding array with associated actions\n",
    "                actg = []\n",
    "                for a in range(0,len(top)):\n",
    "                    for b in range(0,len(glist)):\n",
    "                        if (str((array(glist[b])).dot(psiold)) == (gather.iloc[a]['state'])):\n",
    "                            garray.append((array(glist[b])).dot(psiold))\n",
    "                            actg.append(b)\n",
    "        \n",
    "                q = randrange(100)\n",
    "                if q > 70: #Create a percentage chance that the next state will be one with a max Q value (expoitation) or a state obtained from a random action (exploration)\n",
    "                    r = randrange(len(toparray))\n",
    "                    psiold = toparray[r]\n",
    "                    action = actarray[r]\n",
    "                else:\n",
    "                    r = randrange(len(garray))\n",
    "                    psiold = garray[r]\n",
    "                    action = actg[r]\n",
    "        \n",
    "            #print(str(t) + 'th state is ' + str(psiold) + ' after action ' + str(action))\n",
    "        #print(repeats) \n",
    "    tots1 = tots1.append(table) #add the updated Q values from this agent to a table\n",
    "    oppa = table.loc[(table.state == str(psinit))] #select the rows with the initial state\n",
    "    lol = oppa.sort_values(\"Q\", ascending=False) #sort according to Q value\n",
    "    top = lol.head(1) #Choose the state action pair with the top Q value\n",
    "    for n in [0, 1, 2, 3, 4, 5, 6, 7, 8]:\n",
    "        \n",
    "        oppa1 = table.loc[(table.state == top['new'].values[n])] #Find the state that results from the top action being applied\n",
    "        lol = oppa1.sort_values(\"Q\", ascending=False) #find the max Q value of next state\n",
    "        top1 = lol.head(1)\n",
    "        \n",
    "        top = top.append(top1) #add it to the dataframe of steps\n",
    "        #print(top1)\n",
    "         \n",
    "    final = final.append(top) #add this agents top first 4 steps to the other agents top first 4 steps\n",
    "    final = final.reset_index(drop=True)"
   ]
  },
  {
   "cell_type": "code",
   "execution_count": 130,
   "metadata": {},
   "outputs": [
    {
     "data": {
      "text/html": [
       "<div>\n",
       "<style scoped>\n",
       "    .dataframe tbody tr th:only-of-type {\n",
       "        vertical-align: middle;\n",
       "    }\n",
       "\n",
       "    .dataframe tbody tr th {\n",
       "        vertical-align: top;\n",
       "    }\n",
       "\n",
       "    .dataframe thead th {\n",
       "        text-align: right;\n",
       "    }\n",
       "</style>\n",
       "<table border=\"1\" class=\"dataframe\">\n",
       "  <thead>\n",
       "    <tr style=\"text-align: right;\">\n",
       "      <th></th>\n",
       "      <th>state</th>\n",
       "      <th>gate</th>\n",
       "      <th>new</th>\n",
       "      <th>fidelity</th>\n",
       "      <th>Q</th>\n",
       "    </tr>\n",
       "  </thead>\n",
       "  <tbody>\n",
       "    <tr>\n",
       "      <td>0</td>\n",
       "      <td>[[1.+0.j]\\n [0.+0.j]\\n [0.+0.j]\\n [0.+0.j]]</td>\n",
       "      <td>4</td>\n",
       "      <td>[[0.70710678+0.j]\\n [0.70710678+0.j]\\n [0.    ...</td>\n",
       "      <td>0.0</td>\n",
       "      <td>19.909307</td>\n",
       "    </tr>\n",
       "    <tr>\n",
       "      <td>1</td>\n",
       "      <td>[[0.70710678+0.j]\\n [0.70710678+0.j]\\n [0.    ...</td>\n",
       "      <td>8</td>\n",
       "      <td>[[0.70710678+0.j        ]\\n [0.        +0.7071...</td>\n",
       "      <td>0.0</td>\n",
       "      <td>21.887838</td>\n",
       "    </tr>\n",
       "    <tr>\n",
       "      <td>2</td>\n",
       "      <td>[[0.70710678+0.j        ]\\n [0.        +0.7071...</td>\n",
       "      <td>8</td>\n",
       "      <td>[[ 0.70710678+0.j]\\n [-0.70710678+0.j]\\n [ 0. ...</td>\n",
       "      <td>0.0</td>\n",
       "      <td>25.320677</td>\n",
       "    </tr>\n",
       "    <tr>\n",
       "      <td>3</td>\n",
       "      <td>[[ 0.70710678+0.j]\\n [-0.70710678+0.j]\\n [ 0. ...</td>\n",
       "      <td>4</td>\n",
       "      <td>[[0.+0.j]\\n [1.+0.j]\\n [0.+0.j]\\n [0.+0.j]]</td>\n",
       "      <td>0.0</td>\n",
       "      <td>29.135590</td>\n",
       "    </tr>\n",
       "    <tr>\n",
       "      <td>4</td>\n",
       "      <td>[[0.+0.j]\\n [1.+0.j]\\n [0.+0.j]\\n [0.+0.j]]</td>\n",
       "      <td>2</td>\n",
       "      <td>[[0.+0.j]\\n [0.+0.j]\\n [0.+0.j]\\n [1.+0.j]]</td>\n",
       "      <td>0.0</td>\n",
       "      <td>33.195768</td>\n",
       "    </tr>\n",
       "    <tr>\n",
       "      <td>5</td>\n",
       "      <td>[[0.+0.j]\\n [0.+0.j]\\n [0.+0.j]\\n [1.+0.j]]</td>\n",
       "      <td>1</td>\n",
       "      <td>[[0.+0.j]\\n [0.+0.j]\\n [1.+0.j]\\n [0.+0.j]]</td>\n",
       "      <td>0.0</td>\n",
       "      <td>37.927792</td>\n",
       "    </tr>\n",
       "    <tr>\n",
       "      <td>6</td>\n",
       "      <td>[[0.+0.j]\\n [0.+0.j]\\n [1.+0.j]\\n [0.+0.j]]</td>\n",
       "      <td>8</td>\n",
       "      <td>[[0.+0.j]\\n [0.+0.j]\\n [1.+0.j]\\n [0.+0.j]]</td>\n",
       "      <td>1.0</td>\n",
       "      <td>42.924906</td>\n",
       "    </tr>\n",
       "    <tr>\n",
       "      <td>7</td>\n",
       "      <td>[[0.+0.j]\\n [0.+0.j]\\n [1.+0.j]\\n [0.+0.j]]</td>\n",
       "      <td>8</td>\n",
       "      <td>[[0.+0.j]\\n [0.+0.j]\\n [1.+0.j]\\n [0.+0.j]]</td>\n",
       "      <td>1.0</td>\n",
       "      <td>42.924906</td>\n",
       "    </tr>\n",
       "    <tr>\n",
       "      <td>8</td>\n",
       "      <td>[[0.+0.j]\\n [0.+0.j]\\n [1.+0.j]\\n [0.+0.j]]</td>\n",
       "      <td>8</td>\n",
       "      <td>[[0.+0.j]\\n [0.+0.j]\\n [1.+0.j]\\n [0.+0.j]]</td>\n",
       "      <td>1.0</td>\n",
       "      <td>42.924906</td>\n",
       "    </tr>\n",
       "    <tr>\n",
       "      <td>9</td>\n",
       "      <td>[[0.+0.j]\\n [0.+0.j]\\n [1.+0.j]\\n [0.+0.j]]</td>\n",
       "      <td>8</td>\n",
       "      <td>[[0.+0.j]\\n [0.+0.j]\\n [1.+0.j]\\n [0.+0.j]]</td>\n",
       "      <td>1.0</td>\n",
       "      <td>42.924906</td>\n",
       "    </tr>\n",
       "  </tbody>\n",
       "</table>\n",
       "</div>"
      ],
      "text/plain": [
       "                                               state  gate  \\\n",
       "0        [[1.+0.j]\\n [0.+0.j]\\n [0.+0.j]\\n [0.+0.j]]     4   \n",
       "1  [[0.70710678+0.j]\\n [0.70710678+0.j]\\n [0.    ...     8   \n",
       "2  [[0.70710678+0.j        ]\\n [0.        +0.7071...     8   \n",
       "3  [[ 0.70710678+0.j]\\n [-0.70710678+0.j]\\n [ 0. ...     4   \n",
       "4        [[0.+0.j]\\n [1.+0.j]\\n [0.+0.j]\\n [0.+0.j]]     2   \n",
       "5        [[0.+0.j]\\n [0.+0.j]\\n [0.+0.j]\\n [1.+0.j]]     1   \n",
       "6        [[0.+0.j]\\n [0.+0.j]\\n [1.+0.j]\\n [0.+0.j]]     8   \n",
       "7        [[0.+0.j]\\n [0.+0.j]\\n [1.+0.j]\\n [0.+0.j]]     8   \n",
       "8        [[0.+0.j]\\n [0.+0.j]\\n [1.+0.j]\\n [0.+0.j]]     8   \n",
       "9        [[0.+0.j]\\n [0.+0.j]\\n [1.+0.j]\\n [0.+0.j]]     8   \n",
       "\n",
       "                                                 new  fidelity          Q  \n",
       "0  [[0.70710678+0.j]\\n [0.70710678+0.j]\\n [0.    ...       0.0  19.909307  \n",
       "1  [[0.70710678+0.j        ]\\n [0.        +0.7071...       0.0  21.887838  \n",
       "2  [[ 0.70710678+0.j]\\n [-0.70710678+0.j]\\n [ 0. ...       0.0  25.320677  \n",
       "3        [[0.+0.j]\\n [1.+0.j]\\n [0.+0.j]\\n [0.+0.j]]       0.0  29.135590  \n",
       "4        [[0.+0.j]\\n [0.+0.j]\\n [0.+0.j]\\n [1.+0.j]]       0.0  33.195768  \n",
       "5        [[0.+0.j]\\n [0.+0.j]\\n [1.+0.j]\\n [0.+0.j]]       0.0  37.927792  \n",
       "6        [[0.+0.j]\\n [0.+0.j]\\n [1.+0.j]\\n [0.+0.j]]       1.0  42.924906  \n",
       "7        [[0.+0.j]\\n [0.+0.j]\\n [1.+0.j]\\n [0.+0.j]]       1.0  42.924906  \n",
       "8        [[0.+0.j]\\n [0.+0.j]\\n [1.+0.j]\\n [0.+0.j]]       1.0  42.924906  \n",
       "9        [[0.+0.j]\\n [0.+0.j]\\n [1.+0.j]\\n [0.+0.j]]       1.0  42.924906  "
      ]
     },
     "execution_count": 130,
     "metadata": {},
     "output_type": "execute_result"
    }
   ],
   "source": [
    "reads = final.head(30)\n",
    "reads"
   ]
  },
  {
   "cell_type": "code",
   "execution_count": 131,
   "metadata": {},
   "outputs": [],
   "source": [
    "together = tots1.groupby(['state','gate','new', 'fidelity'])['Q'].mean().reset_index()"
   ]
  },
  {
   "cell_type": "code",
   "execution_count": 132,
   "metadata": {},
   "outputs": [
    {
     "name": "stdout",
     "output_type": "stream",
     "text": [
      "to get from \n",
      "[[0.+0.j]\n",
      " [1.+0.j]\n",
      " [0.+0.j]\n",
      " [0.+0.j]]\n",
      " to \n",
      "[[0.+0.j]\n",
      " [0.+0.j]\n",
      " [1.+0.j]\n",
      " [0.+0.j]]\n",
      " use actions: \n",
      "2[[1 0 0 0]\n",
      " [0 0 0 1]\n",
      " [0 0 1 0]\n",
      " [0 1 0 0]]\n",
      "1[[1 0 0 0]\n",
      " [0 1 0 0]\n",
      " [0 0 0 1]\n",
      " [0 0 1 0]]\n",
      "8[[1.+0.j 0.+0.j 0.+0.j 0.+0.j]\n",
      " [0.+0.j 0.+1.j 0.+0.j 0.+0.j]\n",
      " [0.+0.j 0.+0.j 1.+0.j 0.+0.j]\n",
      " [0.+0.j 0.+0.j 0.+0.j 0.+1.j]]\n",
      "8[[1.+0.j 0.+0.j 0.+0.j 0.+0.j]\n",
      " [0.+0.j 0.+1.j 0.+0.j 0.+0.j]\n",
      " [0.+0.j 0.+0.j 1.+0.j 0.+0.j]\n",
      " [0.+0.j 0.+0.j 0.+0.j 0.+1.j]]\n"
     ]
    }
   ],
   "source": [
    "ask = zeroone\n",
    "table = together.copy()\n",
    "final = pd.DataFrame() #Dataframe to store state action pairs for top Q values for each agent\n",
    "tots1 = pd.DataFrame() \n",
    "oppa = table.loc[(table.state == str(ask))] #select the rows with the initial state\n",
    "lol = oppa.sort_values(\"Q\", ascending=False) #sort according to Q value\n",
    "top = lol.head(1) #Choose the state action pair with the top Q value\n",
    "for n in [0, 1, 2, 3, 4, 5, 6, 7, 8]:\n",
    "        \n",
    "    oppa1 = table.loc[(table.state == top['new'].values[n])] #Find the state that results from the top action being applied\n",
    "    lol = oppa1.sort_values(\"Q\", ascending=False) #find the max Q value of next state\n",
    "    top1 = lol.head(1)\n",
    "        \n",
    "    top = top.append(top1) #add it to the dataframe of steps\n",
    "    if (top.iloc[(n+1)]['gate'] == top.iloc[(n)]['gate']):\n",
    "        break\n",
    "         \n",
    "final = final.append(top) #add this agents top first 4 steps to the other agents top first 4 steps\n",
    "final = final.reset_index(drop=True)\n",
    "\n",
    "reads = final.head(30)\n",
    "\n",
    "first = reads.iloc[0]['state']\n",
    "last = reads.iloc[(len(reads) -1)]['new']\n",
    "print('to get from ')\n",
    "print(first)\n",
    "print(' to ')\n",
    "print(last)\n",
    "print(' use actions: ')\n",
    "for ii in range(0,len(reads)):\n",
    "    act = reads.iloc[ii]['gate']\n",
    "    act2 = glist[act]\n",
    "    print(str(act) + str(act2))"
   ]
  },
  {
   "cell_type": "code",
   "execution_count": 133,
   "metadata": {},
   "outputs": [
    {
     "data": {
      "text/plain": [
       "array([[0.+0.j],\n",
       "       [0.+0.j],\n",
       "       [1.+0.j],\n",
       "       [0.+0.j]])"
      ]
     },
     "execution_count": 133,
     "metadata": {},
     "output_type": "execute_result"
    }
   ],
   "source": [
    "glist[8].dot(glist[1].dot(glist[2].dot(zeroone)))"
   ]
  },
  {
   "cell_type": "code",
   "execution_count": null,
   "metadata": {},
   "outputs": [],
   "source": []
  }
 ],
 "metadata": {
  "kernelspec": {
   "display_name": "Python 3",
   "language": "python",
   "name": "python3"
  },
  "language_info": {
   "codemirror_mode": {
    "name": "ipython",
    "version": 3
   },
   "file_extension": ".py",
   "mimetype": "text/x-python",
   "name": "python",
   "nbconvert_exporter": "python",
   "pygments_lexer": "ipython3",
   "version": "3.7.4"
  }
 },
 "nbformat": 4,
 "nbformat_minor": 2
}
